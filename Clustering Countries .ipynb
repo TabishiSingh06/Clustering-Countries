{
 "cells": [
  {
   "cell_type": "markdown",
   "metadata": {},
   "source": [
    "# Clustering Countries \n",
    "### - OBJECTIVE\n",
    "- To categorise countries using socio-eonomic and health factors that determine the overall development of the country\n",
    "- Then, based upon the countries which have been categorised figure out the countries that are in **need of health and socio - economic help.**"
   ]
  },
  {
   "cell_type": "code",
   "execution_count": 66,
   "metadata": {
    "ExecuteTime": {
     "end_time": "2021-11-28T18:53:45.406527Z",
     "start_time": "2021-11-28T18:53:45.383877Z"
    }
   },
   "outputs": [],
   "source": [
    "%matplotlib inline"
   ]
  },
  {
   "cell_type": "code",
   "execution_count": 67,
   "metadata": {
    "ExecuteTime": {
     "end_time": "2021-11-28T18:53:45.560845Z",
     "start_time": "2021-11-28T18:53:45.413024Z"
    }
   },
   "outputs": [],
   "source": [
    "import pandas as pd\n",
    "import numpy as np\n",
    "import math\n",
    "from IPython.display import Image\n",
    "import seaborn as sns\n",
    "import matplotlib.pyplot as plt"
   ]
  },
  {
   "cell_type": "code",
   "execution_count": 68,
   "metadata": {
    "ExecuteTime": {
     "end_time": "2021-11-28T18:53:45.659372Z",
     "start_time": "2021-11-28T18:53:45.565454Z"
    }
   },
   "outputs": [],
   "source": [
    "pd.set_option('display.max_colwidth', None)"
   ]
  },
  {
   "cell_type": "code",
   "execution_count": 69,
   "metadata": {
    "ExecuteTime": {
     "end_time": "2021-11-28T18:53:45.774283Z",
     "start_time": "2021-11-28T18:53:45.663653Z"
    }
   },
   "outputs": [],
   "source": [
    "df_raw = pd.read_csv(r\"Country-data.csv\")"
   ]
  },
  {
   "cell_type": "code",
   "execution_count": 70,
   "metadata": {
    "ExecuteTime": {
     "end_time": "2021-11-28T18:53:45.910406Z",
     "start_time": "2021-11-28T18:53:45.777263Z"
    }
   },
   "outputs": [
    {
     "data": {
      "text/html": [
       "<div>\n",
       "<style scoped>\n",
       "    .dataframe tbody tr th:only-of-type {\n",
       "        vertical-align: middle;\n",
       "    }\n",
       "\n",
       "    .dataframe tbody tr th {\n",
       "        vertical-align: top;\n",
       "    }\n",
       "\n",
       "    .dataframe thead th {\n",
       "        text-align: right;\n",
       "    }\n",
       "</style>\n",
       "<table border=\"1\" class=\"dataframe\">\n",
       "  <thead>\n",
       "    <tr style=\"text-align: right;\">\n",
       "      <th></th>\n",
       "      <th>country</th>\n",
       "      <th>child_mort</th>\n",
       "      <th>exports</th>\n",
       "      <th>health</th>\n",
       "      <th>imports</th>\n",
       "      <th>income</th>\n",
       "      <th>inflation</th>\n",
       "      <th>life_expec</th>\n",
       "      <th>total_fer</th>\n",
       "      <th>gdpp</th>\n",
       "    </tr>\n",
       "  </thead>\n",
       "  <tbody>\n",
       "    <tr>\n",
       "      <th>0</th>\n",
       "      <td>Afghanistan</td>\n",
       "      <td>90.2</td>\n",
       "      <td>10.0</td>\n",
       "      <td>7.58</td>\n",
       "      <td>44.9</td>\n",
       "      <td>1610</td>\n",
       "      <td>9.44</td>\n",
       "      <td>56.2</td>\n",
       "      <td>5.82</td>\n",
       "      <td>553</td>\n",
       "    </tr>\n",
       "    <tr>\n",
       "      <th>1</th>\n",
       "      <td>Albania</td>\n",
       "      <td>16.6</td>\n",
       "      <td>28.0</td>\n",
       "      <td>6.55</td>\n",
       "      <td>48.6</td>\n",
       "      <td>9930</td>\n",
       "      <td>4.49</td>\n",
       "      <td>76.3</td>\n",
       "      <td>1.65</td>\n",
       "      <td>4090</td>\n",
       "    </tr>\n",
       "    <tr>\n",
       "      <th>2</th>\n",
       "      <td>Algeria</td>\n",
       "      <td>27.3</td>\n",
       "      <td>38.4</td>\n",
       "      <td>4.17</td>\n",
       "      <td>31.4</td>\n",
       "      <td>12900</td>\n",
       "      <td>16.10</td>\n",
       "      <td>76.5</td>\n",
       "      <td>2.89</td>\n",
       "      <td>4460</td>\n",
       "    </tr>\n",
       "    <tr>\n",
       "      <th>3</th>\n",
       "      <td>Angola</td>\n",
       "      <td>119.0</td>\n",
       "      <td>62.3</td>\n",
       "      <td>2.85</td>\n",
       "      <td>42.9</td>\n",
       "      <td>5900</td>\n",
       "      <td>22.40</td>\n",
       "      <td>60.1</td>\n",
       "      <td>6.16</td>\n",
       "      <td>3530</td>\n",
       "    </tr>\n",
       "    <tr>\n",
       "      <th>4</th>\n",
       "      <td>Antigua and Barbuda</td>\n",
       "      <td>10.3</td>\n",
       "      <td>45.5</td>\n",
       "      <td>6.03</td>\n",
       "      <td>58.9</td>\n",
       "      <td>19100</td>\n",
       "      <td>1.44</td>\n",
       "      <td>76.8</td>\n",
       "      <td>2.13</td>\n",
       "      <td>12200</td>\n",
       "    </tr>\n",
       "    <tr>\n",
       "      <th>...</th>\n",
       "      <td>...</td>\n",
       "      <td>...</td>\n",
       "      <td>...</td>\n",
       "      <td>...</td>\n",
       "      <td>...</td>\n",
       "      <td>...</td>\n",
       "      <td>...</td>\n",
       "      <td>...</td>\n",
       "      <td>...</td>\n",
       "      <td>...</td>\n",
       "    </tr>\n",
       "    <tr>\n",
       "      <th>162</th>\n",
       "      <td>Vanuatu</td>\n",
       "      <td>29.2</td>\n",
       "      <td>46.6</td>\n",
       "      <td>5.25</td>\n",
       "      <td>52.7</td>\n",
       "      <td>2950</td>\n",
       "      <td>2.62</td>\n",
       "      <td>63.0</td>\n",
       "      <td>3.50</td>\n",
       "      <td>2970</td>\n",
       "    </tr>\n",
       "    <tr>\n",
       "      <th>163</th>\n",
       "      <td>Venezuela</td>\n",
       "      <td>17.1</td>\n",
       "      <td>28.5</td>\n",
       "      <td>4.91</td>\n",
       "      <td>17.6</td>\n",
       "      <td>16500</td>\n",
       "      <td>45.90</td>\n",
       "      <td>75.4</td>\n",
       "      <td>2.47</td>\n",
       "      <td>13500</td>\n",
       "    </tr>\n",
       "    <tr>\n",
       "      <th>164</th>\n",
       "      <td>Vietnam</td>\n",
       "      <td>23.3</td>\n",
       "      <td>72.0</td>\n",
       "      <td>6.84</td>\n",
       "      <td>80.2</td>\n",
       "      <td>4490</td>\n",
       "      <td>12.10</td>\n",
       "      <td>73.1</td>\n",
       "      <td>1.95</td>\n",
       "      <td>1310</td>\n",
       "    </tr>\n",
       "    <tr>\n",
       "      <th>165</th>\n",
       "      <td>Yemen</td>\n",
       "      <td>56.3</td>\n",
       "      <td>30.0</td>\n",
       "      <td>5.18</td>\n",
       "      <td>34.4</td>\n",
       "      <td>4480</td>\n",
       "      <td>23.60</td>\n",
       "      <td>67.5</td>\n",
       "      <td>4.67</td>\n",
       "      <td>1310</td>\n",
       "    </tr>\n",
       "    <tr>\n",
       "      <th>166</th>\n",
       "      <td>Zambia</td>\n",
       "      <td>83.1</td>\n",
       "      <td>37.0</td>\n",
       "      <td>5.89</td>\n",
       "      <td>30.9</td>\n",
       "      <td>3280</td>\n",
       "      <td>14.00</td>\n",
       "      <td>52.0</td>\n",
       "      <td>5.40</td>\n",
       "      <td>1460</td>\n",
       "    </tr>\n",
       "  </tbody>\n",
       "</table>\n",
       "<p>167 rows × 10 columns</p>\n",
       "</div>"
      ],
      "text/plain": [
       "                 country  child_mort  exports  health  imports  income  \\\n",
       "0            Afghanistan        90.2     10.0    7.58     44.9    1610   \n",
       "1                Albania        16.6     28.0    6.55     48.6    9930   \n",
       "2                Algeria        27.3     38.4    4.17     31.4   12900   \n",
       "3                 Angola       119.0     62.3    2.85     42.9    5900   \n",
       "4    Antigua and Barbuda        10.3     45.5    6.03     58.9   19100   \n",
       "..                   ...         ...      ...     ...      ...     ...   \n",
       "162              Vanuatu        29.2     46.6    5.25     52.7    2950   \n",
       "163            Venezuela        17.1     28.5    4.91     17.6   16500   \n",
       "164              Vietnam        23.3     72.0    6.84     80.2    4490   \n",
       "165                Yemen        56.3     30.0    5.18     34.4    4480   \n",
       "166               Zambia        83.1     37.0    5.89     30.9    3280   \n",
       "\n",
       "     inflation  life_expec  total_fer   gdpp  \n",
       "0         9.44        56.2       5.82    553  \n",
       "1         4.49        76.3       1.65   4090  \n",
       "2        16.10        76.5       2.89   4460  \n",
       "3        22.40        60.1       6.16   3530  \n",
       "4         1.44        76.8       2.13  12200  \n",
       "..         ...         ...        ...    ...  \n",
       "162       2.62        63.0       3.50   2970  \n",
       "163      45.90        75.4       2.47  13500  \n",
       "164      12.10        73.1       1.95   1310  \n",
       "165      23.60        67.5       4.67   1310  \n",
       "166      14.00        52.0       5.40   1460  \n",
       "\n",
       "[167 rows x 10 columns]"
      ]
     },
     "execution_count": 70,
     "metadata": {},
     "output_type": "execute_result"
    }
   ],
   "source": [
    "df_raw"
   ]
  },
  {
   "cell_type": "markdown",
   "metadata": {},
   "source": [
    "### The above dataset corresponds to an **unsupervised learning** problem as there is no target feature involved.\n",
    "- The model employed in forming clusters is going to be **K-Means Clustering**.\n",
    "- **'child_mort', 'exports', 'health', 'imports', 'income','inflation', 'life_expec', 'total_fer', 'gdpp'** are all the features that will form the basis of our clusters."
   ]
  },
  {
   "cell_type": "code",
   "execution_count": 71,
   "metadata": {
    "ExecuteTime": {
     "end_time": "2021-11-28T18:53:46.004224Z",
     "start_time": "2021-11-28T18:53:45.913033Z"
    }
   },
   "outputs": [
    {
     "data": {
      "text/plain": [
       "Index(['country', 'child_mort', 'exports', 'health', 'imports', 'income',\n",
       "       'inflation', 'life_expec', 'total_fer', 'gdpp'],\n",
       "      dtype='object')"
      ]
     },
     "execution_count": 71,
     "metadata": {},
     "output_type": "execute_result"
    }
   ],
   "source": [
    "df_raw.columns"
   ]
  },
  {
   "cell_type": "code",
   "execution_count": 72,
   "metadata": {
    "ExecuteTime": {
     "end_time": "2021-11-28T18:53:46.113467Z",
     "start_time": "2021-11-28T18:53:46.009371Z"
    }
   },
   "outputs": [],
   "source": [
    "data_dict = pd.read_csv(r\"data-dictionary.csv\")"
   ]
  },
  {
   "cell_type": "code",
   "execution_count": 73,
   "metadata": {
    "ExecuteTime": {
     "end_time": "2021-11-28T18:53:46.232349Z",
     "start_time": "2021-11-28T18:53:46.120098Z"
    }
   },
   "outputs": [
    {
     "data": {
      "text/html": [
       "<div>\n",
       "<style scoped>\n",
       "    .dataframe tbody tr th:only-of-type {\n",
       "        vertical-align: middle;\n",
       "    }\n",
       "\n",
       "    .dataframe tbody tr th {\n",
       "        vertical-align: top;\n",
       "    }\n",
       "\n",
       "    .dataframe thead th {\n",
       "        text-align: right;\n",
       "    }\n",
       "</style>\n",
       "<table border=\"1\" class=\"dataframe\">\n",
       "  <thead>\n",
       "    <tr style=\"text-align: right;\">\n",
       "      <th></th>\n",
       "      <th>Column Name</th>\n",
       "      <th>Description</th>\n",
       "    </tr>\n",
       "  </thead>\n",
       "  <tbody>\n",
       "    <tr>\n",
       "      <th>0</th>\n",
       "      <td>country</td>\n",
       "      <td>Name of the country</td>\n",
       "    </tr>\n",
       "    <tr>\n",
       "      <th>1</th>\n",
       "      <td>child_mort</td>\n",
       "      <td>Death of children under 5 years of age per 1000 live births</td>\n",
       "    </tr>\n",
       "    <tr>\n",
       "      <th>2</th>\n",
       "      <td>exports</td>\n",
       "      <td>Exports of goods and services per capita. Given as %age of the GDP per capita</td>\n",
       "    </tr>\n",
       "    <tr>\n",
       "      <th>3</th>\n",
       "      <td>health</td>\n",
       "      <td>Total health spending per capita. Given as %age of GDP per capita</td>\n",
       "    </tr>\n",
       "    <tr>\n",
       "      <th>4</th>\n",
       "      <td>imports</td>\n",
       "      <td>Imports of goods and services per capita. Given as %age of the GDP per capita</td>\n",
       "    </tr>\n",
       "    <tr>\n",
       "      <th>5</th>\n",
       "      <td>Income</td>\n",
       "      <td>Net income per person</td>\n",
       "    </tr>\n",
       "    <tr>\n",
       "      <th>6</th>\n",
       "      <td>Inflation</td>\n",
       "      <td>The measurement of the annual growth rate of the Total GDP</td>\n",
       "    </tr>\n",
       "    <tr>\n",
       "      <th>7</th>\n",
       "      <td>life_expec</td>\n",
       "      <td>The average number of years a new born child would live if the current mortality patterns are to remain the same</td>\n",
       "    </tr>\n",
       "    <tr>\n",
       "      <th>8</th>\n",
       "      <td>total_fer</td>\n",
       "      <td>The number of children that would be born to each woman if the current age-fertility rates remain the same.</td>\n",
       "    </tr>\n",
       "    <tr>\n",
       "      <th>9</th>\n",
       "      <td>gdpp</td>\n",
       "      <td>The GDP per capita. Calculated as the Total GDP divided by the total population.</td>\n",
       "    </tr>\n",
       "  </tbody>\n",
       "</table>\n",
       "</div>"
      ],
      "text/plain": [
       "  Column Name  \\\n",
       "0     country   \n",
       "1  child_mort   \n",
       "2     exports   \n",
       "3      health   \n",
       "4     imports   \n",
       "5      Income   \n",
       "6   Inflation   \n",
       "7  life_expec   \n",
       "8   total_fer   \n",
       "9        gdpp   \n",
       "\n",
       "                                                                                                        Description  \n",
       "0                                                                                               Name of the country  \n",
       "1                                                       Death of children under 5 years of age per 1000 live births  \n",
       "2                                     Exports of goods and services per capita. Given as %age of the GDP per capita  \n",
       "3                                                 Total health spending per capita. Given as %age of GDP per capita  \n",
       "4                                     Imports of goods and services per capita. Given as %age of the GDP per capita  \n",
       "5                                                                                             Net income per person  \n",
       "6                                                        The measurement of the annual growth rate of the Total GDP  \n",
       "7  The average number of years a new born child would live if the current mortality patterns are to remain the same  \n",
       "8       The number of children that would be born to each woman if the current age-fertility rates remain the same.  \n",
       "9                                  The GDP per capita. Calculated as the Total GDP divided by the total population.  "
      ]
     },
     "execution_count": 73,
     "metadata": {},
     "output_type": "execute_result"
    }
   ],
   "source": [
    "data_dict"
   ]
  },
  {
   "cell_type": "code",
   "execution_count": 74,
   "metadata": {
    "ExecuteTime": {
     "end_time": "2021-11-28T18:53:46.511451Z",
     "start_time": "2021-11-28T18:53:46.236713Z"
    }
   },
   "outputs": [
    {
     "data": {
      "text/html": [
       "<div>\n",
       "<style scoped>\n",
       "    .dataframe tbody tr th:only-of-type {\n",
       "        vertical-align: middle;\n",
       "    }\n",
       "\n",
       "    .dataframe tbody tr th {\n",
       "        vertical-align: top;\n",
       "    }\n",
       "\n",
       "    .dataframe thead th {\n",
       "        text-align: right;\n",
       "    }\n",
       "</style>\n",
       "<table border=\"1\" class=\"dataframe\">\n",
       "  <thead>\n",
       "    <tr style=\"text-align: right;\">\n",
       "      <th></th>\n",
       "      <th>child_mort</th>\n",
       "      <th>exports</th>\n",
       "      <th>health</th>\n",
       "      <th>imports</th>\n",
       "      <th>income</th>\n",
       "      <th>inflation</th>\n",
       "      <th>life_expec</th>\n",
       "      <th>total_fer</th>\n",
       "      <th>gdpp</th>\n",
       "    </tr>\n",
       "  </thead>\n",
       "  <tbody>\n",
       "    <tr>\n",
       "      <th>count</th>\n",
       "      <td>167.000000</td>\n",
       "      <td>167.000000</td>\n",
       "      <td>167.000000</td>\n",
       "      <td>167.000000</td>\n",
       "      <td>167.000000</td>\n",
       "      <td>167.000000</td>\n",
       "      <td>167.000000</td>\n",
       "      <td>167.000000</td>\n",
       "      <td>167.000000</td>\n",
       "    </tr>\n",
       "    <tr>\n",
       "      <th>mean</th>\n",
       "      <td>38.270060</td>\n",
       "      <td>41.108976</td>\n",
       "      <td>6.815689</td>\n",
       "      <td>46.890215</td>\n",
       "      <td>17144.688623</td>\n",
       "      <td>7.781832</td>\n",
       "      <td>70.555689</td>\n",
       "      <td>2.947964</td>\n",
       "      <td>12964.155689</td>\n",
       "    </tr>\n",
       "    <tr>\n",
       "      <th>std</th>\n",
       "      <td>40.328931</td>\n",
       "      <td>27.412010</td>\n",
       "      <td>2.746837</td>\n",
       "      <td>24.209589</td>\n",
       "      <td>19278.067698</td>\n",
       "      <td>10.570704</td>\n",
       "      <td>8.893172</td>\n",
       "      <td>1.513848</td>\n",
       "      <td>18328.704809</td>\n",
       "    </tr>\n",
       "    <tr>\n",
       "      <th>min</th>\n",
       "      <td>2.600000</td>\n",
       "      <td>0.109000</td>\n",
       "      <td>1.810000</td>\n",
       "      <td>0.065900</td>\n",
       "      <td>609.000000</td>\n",
       "      <td>-4.210000</td>\n",
       "      <td>32.100000</td>\n",
       "      <td>1.150000</td>\n",
       "      <td>231.000000</td>\n",
       "    </tr>\n",
       "    <tr>\n",
       "      <th>25%</th>\n",
       "      <td>8.250000</td>\n",
       "      <td>23.800000</td>\n",
       "      <td>4.920000</td>\n",
       "      <td>30.200000</td>\n",
       "      <td>3355.000000</td>\n",
       "      <td>1.810000</td>\n",
       "      <td>65.300000</td>\n",
       "      <td>1.795000</td>\n",
       "      <td>1330.000000</td>\n",
       "    </tr>\n",
       "    <tr>\n",
       "      <th>50%</th>\n",
       "      <td>19.300000</td>\n",
       "      <td>35.000000</td>\n",
       "      <td>6.320000</td>\n",
       "      <td>43.300000</td>\n",
       "      <td>9960.000000</td>\n",
       "      <td>5.390000</td>\n",
       "      <td>73.100000</td>\n",
       "      <td>2.410000</td>\n",
       "      <td>4660.000000</td>\n",
       "    </tr>\n",
       "    <tr>\n",
       "      <th>75%</th>\n",
       "      <td>62.100000</td>\n",
       "      <td>51.350000</td>\n",
       "      <td>8.600000</td>\n",
       "      <td>58.750000</td>\n",
       "      <td>22800.000000</td>\n",
       "      <td>10.750000</td>\n",
       "      <td>76.800000</td>\n",
       "      <td>3.880000</td>\n",
       "      <td>14050.000000</td>\n",
       "    </tr>\n",
       "    <tr>\n",
       "      <th>max</th>\n",
       "      <td>208.000000</td>\n",
       "      <td>200.000000</td>\n",
       "      <td>17.900000</td>\n",
       "      <td>174.000000</td>\n",
       "      <td>125000.000000</td>\n",
       "      <td>104.000000</td>\n",
       "      <td>82.800000</td>\n",
       "      <td>7.490000</td>\n",
       "      <td>105000.000000</td>\n",
       "    </tr>\n",
       "  </tbody>\n",
       "</table>\n",
       "</div>"
      ],
      "text/plain": [
       "       child_mort     exports      health     imports         income  \\\n",
       "count  167.000000  167.000000  167.000000  167.000000     167.000000   \n",
       "mean    38.270060   41.108976    6.815689   46.890215   17144.688623   \n",
       "std     40.328931   27.412010    2.746837   24.209589   19278.067698   \n",
       "min      2.600000    0.109000    1.810000    0.065900     609.000000   \n",
       "25%      8.250000   23.800000    4.920000   30.200000    3355.000000   \n",
       "50%     19.300000   35.000000    6.320000   43.300000    9960.000000   \n",
       "75%     62.100000   51.350000    8.600000   58.750000   22800.000000   \n",
       "max    208.000000  200.000000   17.900000  174.000000  125000.000000   \n",
       "\n",
       "        inflation  life_expec   total_fer           gdpp  \n",
       "count  167.000000  167.000000  167.000000     167.000000  \n",
       "mean     7.781832   70.555689    2.947964   12964.155689  \n",
       "std     10.570704    8.893172    1.513848   18328.704809  \n",
       "min     -4.210000   32.100000    1.150000     231.000000  \n",
       "25%      1.810000   65.300000    1.795000    1330.000000  \n",
       "50%      5.390000   73.100000    2.410000    4660.000000  \n",
       "75%     10.750000   76.800000    3.880000   14050.000000  \n",
       "max    104.000000   82.800000    7.490000  105000.000000  "
      ]
     },
     "execution_count": 74,
     "metadata": {},
     "output_type": "execute_result"
    }
   ],
   "source": [
    "df_raw.describe()"
   ]
  },
  {
   "cell_type": "code",
   "execution_count": 75,
   "metadata": {
    "ExecuteTime": {
     "end_time": "2021-11-28T18:53:46.569286Z",
     "start_time": "2021-11-28T18:53:46.516839Z"
    }
   },
   "outputs": [
    {
     "data": {
      "text/html": [
       "<div>\n",
       "<style scoped>\n",
       "    .dataframe tbody tr th:only-of-type {\n",
       "        vertical-align: middle;\n",
       "    }\n",
       "\n",
       "    .dataframe tbody tr th {\n",
       "        vertical-align: top;\n",
       "    }\n",
       "\n",
       "    .dataframe thead th {\n",
       "        text-align: right;\n",
       "    }\n",
       "</style>\n",
       "<table border=\"1\" class=\"dataframe\">\n",
       "  <thead>\n",
       "    <tr style=\"text-align: right;\">\n",
       "      <th></th>\n",
       "      <th>child_mort</th>\n",
       "      <th>exports</th>\n",
       "      <th>health</th>\n",
       "      <th>imports</th>\n",
       "      <th>income</th>\n",
       "      <th>inflation</th>\n",
       "      <th>life_expec</th>\n",
       "      <th>total_fer</th>\n",
       "      <th>gdpp</th>\n",
       "    </tr>\n",
       "  </thead>\n",
       "  <tbody>\n",
       "    <tr>\n",
       "      <th>child_mort</th>\n",
       "      <td>1.000000</td>\n",
       "      <td>-0.318093</td>\n",
       "      <td>-0.200402</td>\n",
       "      <td>-0.127211</td>\n",
       "      <td>-0.524315</td>\n",
       "      <td>0.288276</td>\n",
       "      <td>-0.886676</td>\n",
       "      <td>0.848478</td>\n",
       "      <td>-0.483032</td>\n",
       "    </tr>\n",
       "    <tr>\n",
       "      <th>exports</th>\n",
       "      <td>-0.318093</td>\n",
       "      <td>1.000000</td>\n",
       "      <td>-0.114408</td>\n",
       "      <td>0.737381</td>\n",
       "      <td>0.516784</td>\n",
       "      <td>-0.107294</td>\n",
       "      <td>0.316313</td>\n",
       "      <td>-0.320011</td>\n",
       "      <td>0.418725</td>\n",
       "    </tr>\n",
       "    <tr>\n",
       "      <th>health</th>\n",
       "      <td>-0.200402</td>\n",
       "      <td>-0.114408</td>\n",
       "      <td>1.000000</td>\n",
       "      <td>0.095717</td>\n",
       "      <td>0.129579</td>\n",
       "      <td>-0.255376</td>\n",
       "      <td>0.210692</td>\n",
       "      <td>-0.196674</td>\n",
       "      <td>0.345966</td>\n",
       "    </tr>\n",
       "    <tr>\n",
       "      <th>imports</th>\n",
       "      <td>-0.127211</td>\n",
       "      <td>0.737381</td>\n",
       "      <td>0.095717</td>\n",
       "      <td>1.000000</td>\n",
       "      <td>0.122406</td>\n",
       "      <td>-0.246994</td>\n",
       "      <td>0.054391</td>\n",
       "      <td>-0.159048</td>\n",
       "      <td>0.115498</td>\n",
       "    </tr>\n",
       "    <tr>\n",
       "      <th>income</th>\n",
       "      <td>-0.524315</td>\n",
       "      <td>0.516784</td>\n",
       "      <td>0.129579</td>\n",
       "      <td>0.122406</td>\n",
       "      <td>1.000000</td>\n",
       "      <td>-0.147756</td>\n",
       "      <td>0.611962</td>\n",
       "      <td>-0.501840</td>\n",
       "      <td>0.895571</td>\n",
       "    </tr>\n",
       "    <tr>\n",
       "      <th>inflation</th>\n",
       "      <td>0.288276</td>\n",
       "      <td>-0.107294</td>\n",
       "      <td>-0.255376</td>\n",
       "      <td>-0.246994</td>\n",
       "      <td>-0.147756</td>\n",
       "      <td>1.000000</td>\n",
       "      <td>-0.239705</td>\n",
       "      <td>0.316921</td>\n",
       "      <td>-0.221631</td>\n",
       "    </tr>\n",
       "    <tr>\n",
       "      <th>life_expec</th>\n",
       "      <td>-0.886676</td>\n",
       "      <td>0.316313</td>\n",
       "      <td>0.210692</td>\n",
       "      <td>0.054391</td>\n",
       "      <td>0.611962</td>\n",
       "      <td>-0.239705</td>\n",
       "      <td>1.000000</td>\n",
       "      <td>-0.760875</td>\n",
       "      <td>0.600089</td>\n",
       "    </tr>\n",
       "    <tr>\n",
       "      <th>total_fer</th>\n",
       "      <td>0.848478</td>\n",
       "      <td>-0.320011</td>\n",
       "      <td>-0.196674</td>\n",
       "      <td>-0.159048</td>\n",
       "      <td>-0.501840</td>\n",
       "      <td>0.316921</td>\n",
       "      <td>-0.760875</td>\n",
       "      <td>1.000000</td>\n",
       "      <td>-0.454910</td>\n",
       "    </tr>\n",
       "    <tr>\n",
       "      <th>gdpp</th>\n",
       "      <td>-0.483032</td>\n",
       "      <td>0.418725</td>\n",
       "      <td>0.345966</td>\n",
       "      <td>0.115498</td>\n",
       "      <td>0.895571</td>\n",
       "      <td>-0.221631</td>\n",
       "      <td>0.600089</td>\n",
       "      <td>-0.454910</td>\n",
       "      <td>1.000000</td>\n",
       "    </tr>\n",
       "  </tbody>\n",
       "</table>\n",
       "</div>"
      ],
      "text/plain": [
       "            child_mort   exports    health   imports    income  inflation  \\\n",
       "child_mort    1.000000 -0.318093 -0.200402 -0.127211 -0.524315   0.288276   \n",
       "exports      -0.318093  1.000000 -0.114408  0.737381  0.516784  -0.107294   \n",
       "health       -0.200402 -0.114408  1.000000  0.095717  0.129579  -0.255376   \n",
       "imports      -0.127211  0.737381  0.095717  1.000000  0.122406  -0.246994   \n",
       "income       -0.524315  0.516784  0.129579  0.122406  1.000000  -0.147756   \n",
       "inflation     0.288276 -0.107294 -0.255376 -0.246994 -0.147756   1.000000   \n",
       "life_expec   -0.886676  0.316313  0.210692  0.054391  0.611962  -0.239705   \n",
       "total_fer     0.848478 -0.320011 -0.196674 -0.159048 -0.501840   0.316921   \n",
       "gdpp         -0.483032  0.418725  0.345966  0.115498  0.895571  -0.221631   \n",
       "\n",
       "            life_expec  total_fer      gdpp  \n",
       "child_mort   -0.886676   0.848478 -0.483032  \n",
       "exports       0.316313  -0.320011  0.418725  \n",
       "health        0.210692  -0.196674  0.345966  \n",
       "imports       0.054391  -0.159048  0.115498  \n",
       "income        0.611962  -0.501840  0.895571  \n",
       "inflation    -0.239705   0.316921 -0.221631  \n",
       "life_expec    1.000000  -0.760875  0.600089  \n",
       "total_fer    -0.760875   1.000000 -0.454910  \n",
       "gdpp          0.600089  -0.454910  1.000000  "
      ]
     },
     "execution_count": 75,
     "metadata": {},
     "output_type": "execute_result"
    }
   ],
   "source": [
    "# pearson coeff of correlation\n",
    "df_raw.corr()"
   ]
  },
  {
   "cell_type": "markdown",
   "metadata": {},
   "source": [
    "# Missing Values"
   ]
  },
  {
   "cell_type": "code",
   "execution_count": 76,
   "metadata": {
    "ExecuteTime": {
     "end_time": "2021-11-28T18:53:46.640071Z",
     "start_time": "2021-11-28T18:53:46.574632Z"
    }
   },
   "outputs": [
    {
     "data": {
      "text/plain": [
       "Index(['country', 'child_mort', 'exports', 'health', 'imports', 'income',\n",
       "       'inflation', 'life_expec', 'total_fer', 'gdpp'],\n",
       "      dtype='object')"
      ]
     },
     "execution_count": 76,
     "metadata": {},
     "output_type": "execute_result"
    }
   ],
   "source": [
    "df_raw.columns"
   ]
  },
  {
   "cell_type": "code",
   "execution_count": 77,
   "metadata": {
    "ExecuteTime": {
     "end_time": "2021-11-28T18:53:46.856391Z",
     "start_time": "2021-11-28T18:53:46.646083Z"
    }
   },
   "outputs": [
    {
     "name": "stdout",
     "output_type": "stream",
     "text": [
      "Missing values for the data set\n",
      "\n",
      "country : 0\n",
      "child_mort : 0\n",
      "exports : 0\n",
      "health : 0\n",
      "imports : 0\n",
      "income : 0\n",
      "inflation : 0\n",
      "life_expec : 0\n",
      "total_fer : 0\n",
      "gdpp : 0\n"
     ]
    }
   ],
   "source": [
    "d = {}  # no of nans, nones, etc.\n",
    "for c in df_raw.columns:\n",
    "    data = df_raw[c]\n",
    "    d[c] = 0\n",
    "    for k in data:\n",
    "        if(k == np.nan or k == None or k == 0):\n",
    "            d[c] = d.get(c, 0)+1\n",
    "print(\"Missing values for the data set\\n\")\n",
    "for i, j in d.items():\n",
    "    print(i, \":\", j)"
   ]
  },
  {
   "cell_type": "markdown",
   "metadata": {},
   "source": [
    "- The above code shows that there are **no missing** values in the given data set.\n",
    "- We can now go further with the analysis of our features of the data set."
   ]
  },
  {
   "cell_type": "markdown",
   "metadata": {},
   "source": [
    "# Analysis\n",
    "- Since the objective of our cluster analysis is to group countries based on their respective develpment rates, a good way to **define development of a country** can be on the basis of **health, income and GDP per capita**.\n",
    "- This is derived from the fact that if the **GDP per capita is high** it inturn means that **exports are high** and **imports are lower**\n",
    "- Also, if the **health expenditure** of a country is high **a drop in mortality rate** is bound to follow.\n",
    "- - Similarly, in a developed country, **GDP per capita is expected to be high** if **fertility rate is high** and **mortality rate is low**"
   ]
  },
  {
   "cell_type": "markdown",
   "metadata": {},
   "source": [
    "## Health and Income"
   ]
  },
  {
   "cell_type": "code",
   "execution_count": 78,
   "metadata": {
    "ExecuteTime": {
     "end_time": "2021-11-28T18:53:47.629403Z",
     "start_time": "2021-11-28T18:53:46.861615Z"
    }
   },
   "outputs": [
    {
     "data": {
      "image/png": "[encoded data removed]",
      "text/plain": [
       "<Figure size 432x288 with 1 Axes>"
      ]
     },
     "metadata": {
      "needs_background": "light"
     },
     "output_type": "display_data"
    }
   ],
   "source": [
    "sns.scatterplot(x=df_raw.income, y=df_raw.health,\n",
    "                hue=df_raw.country, palette='PuBuGn', legend=False, alpha=0.8)\n",
    "plt.grid()\n",
    "plt.xlabel(\"Income per person\", fontsize=14)\n",
    "plt.ylabel(\"Health spending per Capita\", fontsize=14)\n",
    "plt.title(\"Relationship between Health Facilities by Gov.\\n and Income of Person\",\n",
    "          fontweight='bold')\n",
    "plt.savefig(r'EDA scatter Plots/health_and_income.png', dpi=200)"
   ]
  },
  {
   "cell_type": "markdown",
   "metadata": {},
   "source": [
    "- From the above plot it is noted that although a country may have a *lower* health expenditure by the Gov. but if the average income of the country is *high* then they would not be much dependent on the Gov. provided facilities and may look at private options.\n",
    "- Thus a new column **income and health** is created which is formed by multiplying the income of a person with the health expenditure spent per capita and the plot with **GDP per capita** shows an almost linear relationship."
   ]
  },
  {
   "cell_type": "code",
   "execution_count": 79,
   "metadata": {
    "ExecuteTime": {
     "end_time": "2021-11-28T18:53:47.644195Z",
     "start_time": "2021-11-28T18:53:47.633540Z"
    }
   },
   "outputs": [],
   "source": [
    "df_raw['income_and_health'] = df_raw['health']*df_raw['income']"
   ]
  },
  {
   "cell_type": "code",
   "execution_count": 80,
   "metadata": {
    "ExecuteTime": {
     "end_time": "2021-11-28T18:53:48.673474Z",
     "start_time": "2021-11-28T18:53:47.648173Z"
    }
   },
   "outputs": [
    {
     "data": {
      "image/png": "[encoded data removed]",
      "text/plain": [
       "<Figure size 432x288 with 1 Axes>"
      ]
     },
     "metadata": {
      "needs_background": "light"
     },
     "output_type": "display_data"
    }
   ],
   "source": [
    "sns.scatterplot(x=df_raw.income_and_health, y=df_raw.gdpp,\n",
    "                hue=df_raw.country, palette='twilight', legend=False, alpha=0.8)\n",
    "plt.grid()\n",
    "plt.xlabel(\"Income and health in country\", fontsize=14)\n",
    "plt.ylabel(\"GDP per Capita\", fontsize=12, labelpad=-8)\n",
    "plt.title(\"Relationship between GDP per capita\\n and Income and health \",\n",
    "          fontweight='bold')\n",
    "plt.savefig(r'EDA scatter Plots/GDPp_income_health.png', dpi=200)"
   ]
  },
  {
   "cell_type": "markdown",
   "metadata": {},
   "source": [
    "- This means, the variable $income\\times health$ is a good indicator of the development of a country"
   ]
  },
  {
   "cell_type": "markdown",
   "metadata": {},
   "source": [
    "## Imports and Exports\n",
    "- Another observation noted is that **Exports/Imports** ratio of a country is a good metric to define development\n",
    "- The combined effect of **exports and imports** would be high when exports are high and imports are low meaning that the country is capable of production *beyond its local needs* and very less amount of imports means they are only importing goods that are *exclusive* to other countries"
   ]
  },
  {
   "cell_type": "code",
   "execution_count": 81,
   "metadata": {
    "ExecuteTime": {
     "end_time": "2021-11-28T18:53:49.201124Z",
     "start_time": "2021-11-28T18:53:48.676400Z"
    }
   },
   "outputs": [
    {
     "data": {
      "image/png": "[encoded data removed]",
      "text/plain": [
       "<Figure size 432x288 with 1 Axes>"
      ]
     },
     "metadata": {
      "needs_background": "light"
     },
     "output_type": "display_data"
    }
   ],
   "source": [
    "sns.scatterplot(x=df_raw.exports / df_raw.imports, y=df_raw.gdpp,\n",
    "                hue=df_raw.country, palette='twilight', legend=False, alpha=0.8)\n",
    "plt.grid()\n",
    "plt.xlabel(\"Exports/Imports ratio\", fontsize=14)\n",
    "plt.ylabel(\"GDP per Capita\", fontsize=12, labelpad=-8)\n",
    "plt.title(\"Relationship between GDP per capita\\n and Exports/Imports ratio\",\n",
    "          fontweight='bold')\n",
    "plt.savefig(r'EDA scatter Plots/GDPp_export_import.png', dpi=200)"
   ]
  },
  {
   "cell_type": "code",
   "execution_count": 82,
   "metadata": {
    "ExecuteTime": {
     "end_time": "2021-11-28T18:53:49.211977Z",
     "start_time": "2021-11-28T18:53:49.205916Z"
    }
   },
   "outputs": [],
   "source": [
    "df_raw['exports/imports'] = df_raw['exports'] / df_raw['imports']"
   ]
  },
  {
   "cell_type": "markdown",
   "metadata": {},
   "source": [
    "# Child Mortality and Total Fertility"
   ]
  },
  {
   "cell_type": "code",
   "execution_count": 83,
   "metadata": {
    "ExecuteTime": {
     "end_time": "2021-11-28T18:53:49.984916Z",
     "start_time": "2021-11-28T18:53:49.214874Z"
    }
   },
   "outputs": [
    {
     "data": {
      "image/png": "[encoded data removed]",
      "text/plain": [
       "<Figure size 432x288 with 1 Axes>"
      ]
     },
     "metadata": {
      "needs_background": "light"
     },
     "output_type": "display_data"
    }
   ],
   "source": [
    "sns.scatterplot(x=df_raw.child_mort, y=df_raw.total_fer,\n",
    "                hue=df_raw.country, palette='Accent', legend=False, alpha=0.8)\n",
    "plt.title(\"Relationship of Child Mortality with \\nTotal fertility\",\n",
    "          fontweight='bold')\n",
    "plt.xlabel(\"Child Mortality\", fontsize=14)\n",
    "plt.ylabel(\"Total fertility\", fontsize=14)\n",
    "plt.grid()\n",
    "plt.savefig(r'EDA scatter Plots/fert_and_mortality.png', dpi=200)"
   ]
  },
  {
   "cell_type": "markdown",
   "metadata": {},
   "source": [
    "- This relationship is an unsual relationship which highlights the fact that the countries where the mortality rate of children under 5 years is high, people are having **a greater number of children**.\n",
    "- Although this relationship reveals a mindset that people are afraid that their offspring would succumb and hence they give birth to more number of children.\n",
    "- A better **alternative** to having more children to would be to increase expenditure in health and the income of people in the country. "
   ]
  },
  {
   "cell_type": "code",
   "execution_count": 84,
   "metadata": {
    "ExecuteTime": {
     "end_time": "2021-11-28T18:53:49.993049Z",
     "start_time": "2021-11-28T18:53:49.987488Z"
    }
   },
   "outputs": [],
   "source": [
    "df_raw['fertility_by_mortality'] = df_raw['total_fer'] / df_raw['child_mort']"
   ]
  },
  {
   "cell_type": "code",
   "execution_count": 85,
   "metadata": {
    "ExecuteTime": {
     "end_time": "2021-11-28T18:53:50.570800Z",
     "start_time": "2021-11-28T18:53:49.996419Z"
    }
   },
   "outputs": [
    {
     "data": {
      "image/png": "[encoded data removed]",
      "text/plain": [
       "<Figure size 432x288 with 1 Axes>"
      ]
     },
     "metadata": {
      "needs_background": "light"
     },
     "output_type": "display_data"
    }
   ],
   "source": [
    "sns.scatterplot(x=df_raw.gdpp, y=df_raw.fertility_by_mortality,\n",
    "                hue=df_raw.country, palette='Accent', legend=0, alpha=0.8)\n",
    "plt.xlabel(\"GDPP\", fontsize=14)\n",
    "plt.ylabel(\"Fertility of Women\\n and Mortality rate\", fontsize=12, labelpad=-6)\n",
    "plt.title(\"Relationships between GDPp and \\n fertility-mortality ratio\",\n",
    "          fontweight='bold')\n",
    "plt.grid()\n",
    "plt.savefig(r'EDA scatter Plots/GDPp_fert_and_mort.png', dpi=200)"
   ]
  },
  {
   "cell_type": "code",
   "execution_count": 86,
   "metadata": {
    "ExecuteTime": {
     "end_time": "2021-11-28T18:53:51.086519Z",
     "start_time": "2021-11-28T18:53:50.574159Z"
    }
   },
   "outputs": [
    {
     "data": {
      "image/png": "[encoded data removed]",
      "text/plain": [
       "<Figure size 432x288 with 1 Axes>"
      ]
     },
     "metadata": {
      "needs_background": "light"
     },
     "output_type": "display_data"
    }
   ],
   "source": [
    "sns.scatterplot(x=df_raw.income_and_health, y=df_raw.fertility_by_mortality,\n",
    "                hue=df_raw.country, palette='Accent', legend=0, alpha=0.8)\n",
    "plt.xlabel(\"Income and Health\", fontsize=14)\n",
    "plt.ylabel(\"Fertility of Women\\n and Mortality rate\", fontsize=12, labelpad=-6)\n",
    "plt.title(\"Relationships between income, health, \\n fertility and mortality\",\n",
    "          fontweight='bold')\n",
    "plt.grid()\n",
    "plt.savefig(\n",
    "    r'EDA scatter Plots/income_health_fert_and_mort.png', dpi=200)"
   ]
  },
  {
   "cell_type": "markdown",
   "metadata": {},
   "source": [
    "## Reducing Attributes\n",
    "- (Income, health), (exports,imports) and (total_fertility,child_mortality) attributes are removed\n",
    "- The interaction terms which are relevant to the developments profile of the country have been added"
   ]
  },
  {
   "cell_type": "code",
   "execution_count": 87,
   "metadata": {
    "ExecuteTime": {
     "end_time": "2021-11-28T18:53:51.150491Z",
     "start_time": "2021-11-28T18:53:51.089325Z"
    }
   },
   "outputs": [
    {
     "data": {
      "text/html": [
       "<div>\n",
       "<style scoped>\n",
       "    .dataframe tbody tr th:only-of-type {\n",
       "        vertical-align: middle;\n",
       "    }\n",
       "\n",
       "    .dataframe tbody tr th {\n",
       "        vertical-align: top;\n",
       "    }\n",
       "\n",
       "    .dataframe thead th {\n",
       "        text-align: right;\n",
       "    }\n",
       "</style>\n",
       "<table border=\"1\" class=\"dataframe\">\n",
       "  <thead>\n",
       "    <tr style=\"text-align: right;\">\n",
       "      <th></th>\n",
       "      <th>inflation</th>\n",
       "      <th>life_expec</th>\n",
       "      <th>gdpp</th>\n",
       "      <th>income_and_health</th>\n",
       "      <th>exports/imports</th>\n",
       "      <th>fertility_by_mortality</th>\n",
       "    </tr>\n",
       "  </thead>\n",
       "  <tbody>\n",
       "    <tr>\n",
       "      <th>count</th>\n",
       "      <td>167.000000</td>\n",
       "      <td>167.000000</td>\n",
       "      <td>167.000000</td>\n",
       "      <td>167.000000</td>\n",
       "      <td>167.000000</td>\n",
       "      <td>167.000000</td>\n",
       "    </tr>\n",
       "    <tr>\n",
       "      <th>mean</th>\n",
       "      <td>7.781832</td>\n",
       "      <td>70.555689</td>\n",
       "      <td>12964.155689</td>\n",
       "      <td>123673.440419</td>\n",
       "      <td>0.923072</td>\n",
       "      <td>0.170445</td>\n",
       "    </tr>\n",
       "    <tr>\n",
       "      <th>std</th>\n",
       "      <td>10.570704</td>\n",
       "      <td>8.893172</td>\n",
       "      <td>18328.704809</td>\n",
       "      <td>154521.492565</td>\n",
       "      <td>0.444450</td>\n",
       "      <td>0.149650</td>\n",
       "    </tr>\n",
       "    <tr>\n",
       "      <th>min</th>\n",
       "      <td>-4.210000</td>\n",
       "      <td>32.100000</td>\n",
       "      <td>231.000000</td>\n",
       "      <td>3534.240000</td>\n",
       "      <td>0.079137</td>\n",
       "      <td>0.016010</td>\n",
       "    </tr>\n",
       "    <tr>\n",
       "      <th>25%</th>\n",
       "      <td>1.810000</td>\n",
       "      <td>65.300000</td>\n",
       "      <td>1330.000000</td>\n",
       "      <td>17516.400000</td>\n",
       "      <td>0.649111</td>\n",
       "      <td>0.064923</td>\n",
       "    </tr>\n",
       "    <tr>\n",
       "      <th>50%</th>\n",
       "      <td>5.390000</td>\n",
       "      <td>73.100000</td>\n",
       "      <td>4660.000000</td>\n",
       "      <td>65041.500000</td>\n",
       "      <td>0.893258</td>\n",
       "      <td>0.112565</td>\n",
       "    </tr>\n",
       "    <tr>\n",
       "      <th>75%</th>\n",
       "      <td>10.750000</td>\n",
       "      <td>76.800000</td>\n",
       "      <td>14050.000000</td>\n",
       "      <td>152947.000000</td>\n",
       "      <td>1.133605</td>\n",
       "      <td>0.216767</td>\n",
       "    </tr>\n",
       "    <tr>\n",
       "      <th>max</th>\n",
       "      <td>104.000000</td>\n",
       "      <td>82.800000</td>\n",
       "      <td>105000.000000</td>\n",
       "      <td>884260.000000</td>\n",
       "      <td>3.052910</td>\n",
       "      <td>0.846154</td>\n",
       "    </tr>\n",
       "  </tbody>\n",
       "</table>\n",
       "</div>"
      ],
      "text/plain": [
       "        inflation  life_expec           gdpp  income_and_health  \\\n",
       "count  167.000000  167.000000     167.000000         167.000000   \n",
       "mean     7.781832   70.555689   12964.155689      123673.440419   \n",
       "std     10.570704    8.893172   18328.704809      154521.492565   \n",
       "min     -4.210000   32.100000     231.000000        3534.240000   \n",
       "25%      1.810000   65.300000    1330.000000       17516.400000   \n",
       "50%      5.390000   73.100000    4660.000000       65041.500000   \n",
       "75%     10.750000   76.800000   14050.000000      152947.000000   \n",
       "max    104.000000   82.800000  105000.000000      884260.000000   \n",
       "\n",
       "       exports/imports  fertility_by_mortality  \n",
       "count       167.000000              167.000000  \n",
       "mean          0.923072                0.170445  \n",
       "std           0.444450                0.149650  \n",
       "min           0.079137                0.016010  \n",
       "25%           0.649111                0.064923  \n",
       "50%           0.893258                0.112565  \n",
       "75%           1.133605                0.216767  \n",
       "max           3.052910                0.846154  "
      ]
     },
     "execution_count": 87,
     "metadata": {},
     "output_type": "execute_result"
    }
   ],
   "source": [
    "df_raw = df_raw.drop(['child_mort', 'exports', 'imports',\n",
    "                     'total_fer', 'income', 'health'], axis=1)\n",
    "df_raw.describe()"
   ]
  },
  {
   "cell_type": "code",
   "execution_count": 88,
   "metadata": {
    "ExecuteTime": {
     "end_time": "2021-11-28T18:53:54.059657Z",
     "start_time": "2021-11-28T18:53:54.013518Z"
    }
   },
   "outputs": [
    {
     "data": {
      "text/html": [
       "<div>\n",
       "<style scoped>\n",
       "    .dataframe tbody tr th:only-of-type {\n",
       "        vertical-align: middle;\n",
       "    }\n",
       "\n",
       "    .dataframe tbody tr th {\n",
       "        vertical-align: top;\n",
       "    }\n",
       "\n",
       "    .dataframe thead th {\n",
       "        text-align: right;\n",
       "    }\n",
       "</style>\n",
       "<table border=\"1\" class=\"dataframe\">\n",
       "  <thead>\n",
       "    <tr style=\"text-align: right;\">\n",
       "      <th></th>\n",
       "      <th>inflation</th>\n",
       "      <th>life_expec</th>\n",
       "      <th>gdpp</th>\n",
       "      <th>income_and_health</th>\n",
       "      <th>exports/imports</th>\n",
       "      <th>fertility_by_mortality</th>\n",
       "    </tr>\n",
       "  </thead>\n",
       "  <tbody>\n",
       "    <tr>\n",
       "      <th>inflation</th>\n",
       "      <td>1.000000</td>\n",
       "      <td>-0.239705</td>\n",
       "      <td>-0.221631</td>\n",
       "      <td>-0.258342</td>\n",
       "      <td>0.217699</td>\n",
       "      <td>-0.289018</td>\n",
       "    </tr>\n",
       "    <tr>\n",
       "      <th>life_expec</th>\n",
       "      <td>-0.239705</td>\n",
       "      <td>1.000000</td>\n",
       "      <td>0.600089</td>\n",
       "      <td>0.625066</td>\n",
       "      <td>0.306512</td>\n",
       "      <td>0.673599</td>\n",
       "    </tr>\n",
       "    <tr>\n",
       "      <th>gdpp</th>\n",
       "      <td>-0.221631</td>\n",
       "      <td>0.600089</td>\n",
       "      <td>1.000000</td>\n",
       "      <td>0.921149</td>\n",
       "      <td>0.383750</td>\n",
       "      <td>0.802713</td>\n",
       "    </tr>\n",
       "    <tr>\n",
       "      <th>income_and_health</th>\n",
       "      <td>-0.258342</td>\n",
       "      <td>0.625066</td>\n",
       "      <td>0.921149</td>\n",
       "      <td>1.000000</td>\n",
       "      <td>0.282510</td>\n",
       "      <td>0.790312</td>\n",
       "    </tr>\n",
       "    <tr>\n",
       "      <th>exports/imports</th>\n",
       "      <td>0.217699</td>\n",
       "      <td>0.306512</td>\n",
       "      <td>0.383750</td>\n",
       "      <td>0.282510</td>\n",
       "      <td>1.000000</td>\n",
       "      <td>0.219827</td>\n",
       "    </tr>\n",
       "    <tr>\n",
       "      <th>fertility_by_mortality</th>\n",
       "      <td>-0.289018</td>\n",
       "      <td>0.673599</td>\n",
       "      <td>0.802713</td>\n",
       "      <td>0.790312</td>\n",
       "      <td>0.219827</td>\n",
       "      <td>1.000000</td>\n",
       "    </tr>\n",
       "  </tbody>\n",
       "</table>\n",
       "</div>"
      ],
      "text/plain": [
       "                        inflation  life_expec      gdpp  income_and_health  \\\n",
       "inflation                1.000000   -0.239705 -0.221631          -0.258342   \n",
       "life_expec              -0.239705    1.000000  0.600089           0.625066   \n",
       "gdpp                    -0.221631    0.600089  1.000000           0.921149   \n",
       "income_and_health       -0.258342    0.625066  0.921149           1.000000   \n",
       "exports/imports          0.217699    0.306512  0.383750           0.282510   \n",
       "fertility_by_mortality  -0.289018    0.673599  0.802713           0.790312   \n",
       "\n",
       "                        exports/imports  fertility_by_mortality  \n",
       "inflation                      0.217699               -0.289018  \n",
       "life_expec                     0.306512                0.673599  \n",
       "gdpp                           0.383750                0.802713  \n",
       "income_and_health              0.282510                0.790312  \n",
       "exports/imports                1.000000                0.219827  \n",
       "fertility_by_mortality         0.219827                1.000000  "
      ]
     },
     "execution_count": 88,
     "metadata": {},
     "output_type": "execute_result"
    }
   ],
   "source": [
    "df_raw.corr()"
   ]
  },
  {
   "cell_type": "markdown",
   "metadata": {},
   "source": [
    "# Making the model \n",
    "- KMeans algorithm is imported from skleran library and StandardScaler is used for the scaling of data.\n",
    "- Scaling of data is an important here as the K- means algorithm is a distance based algorithm and **varied distance values** can influence the results."
   ]
  },
  {
   "cell_type": "code",
   "execution_count": 145,
   "metadata": {
    "ExecuteTime": {
     "end_time": "2021-11-28T19:11:10.010809Z",
     "start_time": "2021-11-28T19:11:10.002471Z"
    }
   },
   "outputs": [],
   "source": [
    "from sklearn.cluster import KMeans\n",
    "from sklearn.preprocessing import StandardScaler"
   ]
  },
  {
   "cell_type": "markdown",
   "metadata": {},
   "source": [
    "- Country name is dropped from the data set as it bears **no real significance to the development of a country**\n",
    "- Moreover,it is a **categorical variable** which otherwise also could not have been used as a distance metric, even if it was one-hot encoded."
   ]
  },
  {
   "cell_type": "code",
   "execution_count": 90,
   "metadata": {
    "ExecuteTime": {
     "end_time": "2021-11-28T18:54:21.600549Z",
     "start_time": "2021-11-28T18:54:21.587824Z"
    }
   },
   "outputs": [],
   "source": [
    "df = df_raw.drop('country', axis=1)"
   ]
  },
  {
   "cell_type": "code",
   "execution_count": 146,
   "metadata": {
    "ExecuteTime": {
     "end_time": "2021-11-28T19:11:11.602497Z",
     "start_time": "2021-11-28T19:11:11.565845Z"
    }
   },
   "outputs": [
    {
     "data": {
      "text/html": [
       "<div>\n",
       "<style scoped>\n",
       "    .dataframe tbody tr th:only-of-type {\n",
       "        vertical-align: middle;\n",
       "    }\n",
       "\n",
       "    .dataframe tbody tr th {\n",
       "        vertical-align: top;\n",
       "    }\n",
       "\n",
       "    .dataframe thead th {\n",
       "        text-align: right;\n",
       "    }\n",
       "</style>\n",
       "<table border=\"1\" class=\"dataframe\">\n",
       "  <thead>\n",
       "    <tr style=\"text-align: right;\">\n",
       "      <th></th>\n",
       "      <th>inflation</th>\n",
       "      <th>life_expec</th>\n",
       "      <th>gdpp</th>\n",
       "      <th>income_and_health</th>\n",
       "      <th>exports/imports</th>\n",
       "      <th>fertility_by_mortality</th>\n",
       "    </tr>\n",
       "  </thead>\n",
       "  <tbody>\n",
       "    <tr>\n",
       "      <th>0</th>\n",
       "      <td>9.44</td>\n",
       "      <td>56.2</td>\n",
       "      <td>553</td>\n",
       "      <td>12203.8</td>\n",
       "      <td>0.222717</td>\n",
       "      <td>0.064523</td>\n",
       "    </tr>\n",
       "    <tr>\n",
       "      <th>1</th>\n",
       "      <td>4.49</td>\n",
       "      <td>76.3</td>\n",
       "      <td>4090</td>\n",
       "      <td>65041.5</td>\n",
       "      <td>0.576132</td>\n",
       "      <td>0.099398</td>\n",
       "    </tr>\n",
       "  </tbody>\n",
       "</table>\n",
       "</div>"
      ],
      "text/plain": [
       "   inflation  life_expec  gdpp  income_and_health  exports/imports  \\\n",
       "0       9.44        56.2   553            12203.8         0.222717   \n",
       "1       4.49        76.3  4090            65041.5         0.576132   \n",
       "\n",
       "   fertility_by_mortality  \n",
       "0                0.064523  \n",
       "1                0.099398  "
      ]
     },
     "execution_count": 146,
     "metadata": {},
     "output_type": "execute_result"
    }
   ],
   "source": [
    "df.head(n=2)"
   ]
  },
  {
   "cell_type": "markdown",
   "metadata": {},
   "source": [
    "### Scale and save dataframe"
   ]
  },
  {
   "cell_type": "code",
   "execution_count": 155,
   "metadata": {
    "ExecuteTime": {
     "end_time": "2021-11-28T19:12:04.785049Z",
     "start_time": "2021-11-28T19:12:04.754741Z"
    }
   },
   "outputs": [],
   "source": [
    "st = StandardScaler()\n",
    "train = pd.DataFrame(st.fit_transform(df), columns=df.columns)"
   ]
  },
  {
   "cell_type": "code",
   "execution_count": 156,
   "metadata": {
    "ExecuteTime": {
     "end_time": "2021-11-28T19:12:09.862612Z",
     "start_time": "2021-11-28T19:12:09.808865Z"
    }
   },
   "outputs": [
    {
     "data": {
      "text/html": [
       "<div>\n",
       "<style scoped>\n",
       "    .dataframe tbody tr th:only-of-type {\n",
       "        vertical-align: middle;\n",
       "    }\n",
       "\n",
       "    .dataframe tbody tr th {\n",
       "        vertical-align: top;\n",
       "    }\n",
       "\n",
       "    .dataframe thead th {\n",
       "        text-align: right;\n",
       "    }\n",
       "</style>\n",
       "<table border=\"1\" class=\"dataframe\">\n",
       "  <thead>\n",
       "    <tr style=\"text-align: right;\">\n",
       "      <th></th>\n",
       "      <th>inflation</th>\n",
       "      <th>life_expec</th>\n",
       "      <th>gdpp</th>\n",
       "      <th>income_and_health</th>\n",
       "      <th>exports/imports</th>\n",
       "      <th>fertility_by_mortality</th>\n",
       "    </tr>\n",
       "  </thead>\n",
       "  <tbody>\n",
       "    <tr>\n",
       "      <th>0</th>\n",
       "      <td>0.157336</td>\n",
       "      <td>-1.619092</td>\n",
       "      <td>-0.679180</td>\n",
       "      <td>-0.723556</td>\n",
       "      <td>-1.580519</td>\n",
       "      <td>-0.709924</td>\n",
       "    </tr>\n",
       "    <tr>\n",
       "      <th>1</th>\n",
       "      <td>-0.312347</td>\n",
       "      <td>0.647866</td>\n",
       "      <td>-0.485623</td>\n",
       "      <td>-0.380583</td>\n",
       "      <td>-0.782954</td>\n",
       "      <td>-0.476184</td>\n",
       "    </tr>\n",
       "    <tr>\n",
       "      <th>2</th>\n",
       "      <td>0.789274</td>\n",
       "      <td>0.670423</td>\n",
       "      <td>-0.465376</td>\n",
       "      <td>-0.453598</td>\n",
       "      <td>0.676702</td>\n",
       "      <td>-0.432865</td>\n",
       "    </tr>\n",
       "    <tr>\n",
       "      <th>3</th>\n",
       "      <td>1.387054</td>\n",
       "      <td>-1.179234</td>\n",
       "      <td>-0.516268</td>\n",
       "      <td>-0.693624</td>\n",
       "      <td>1.194138</td>\n",
       "      <td>-0.795436</td>\n",
       "    </tr>\n",
       "    <tr>\n",
       "      <th>4</th>\n",
       "      <td>-0.601749</td>\n",
       "      <td>0.704258</td>\n",
       "      <td>-0.041817</td>\n",
       "      <td>-0.055177</td>\n",
       "      <td>-0.339811</td>\n",
       "      <td>0.243637</td>\n",
       "    </tr>\n",
       "  </tbody>\n",
       "</table>\n",
       "</div>"
      ],
      "text/plain": [
       "   inflation  life_expec      gdpp  income_and_health  exports/imports  \\\n",
       "0   0.157336   -1.619092 -0.679180          -0.723556        -1.580519   \n",
       "1  -0.312347    0.647866 -0.485623          -0.380583        -0.782954   \n",
       "2   0.789274    0.670423 -0.465376          -0.453598         0.676702   \n",
       "3   1.387054   -1.179234 -0.516268          -0.693624         1.194138   \n",
       "4  -0.601749    0.704258 -0.041817          -0.055177        -0.339811   \n",
       "\n",
       "   fertility_by_mortality  \n",
       "0               -0.709924  \n",
       "1               -0.476184  \n",
       "2               -0.432865  \n",
       "3               -0.795436  \n",
       "4                0.243637  "
      ]
     },
     "execution_count": 156,
     "metadata": {},
     "output_type": "execute_result"
    }
   ],
   "source": [
    "train.head()"
   ]
  },
  {
   "cell_type": "code",
   "execution_count": 157,
   "metadata": {
    "ExecuteTime": {
     "end_time": "2021-11-28T19:12:12.139558Z",
     "start_time": "2021-11-28T19:12:12.117734Z"
    }
   },
   "outputs": [],
   "source": [
    "train.to_csv(r\"final_country_data.csv\")"
   ]
  },
  {
   "cell_type": "markdown",
   "metadata": {},
   "source": [
    "# Metrics \n",
    "- **INERTIA** and **Davies- Bouldin Index** were used as the metrics to measure the optimality of clusters.\n",
    "- Both the metrics are should be minimized for **formation of optimal** clusters."
   ]
  },
  {
   "cell_type": "markdown",
   "metadata": {},
   "source": [
    "# Inertia \n",
    "- It is defined as the **intracluster distance**  for the cluster.\n",
    "- The attribute **model.inertia_** provides the total inertia of the model summed up over **all the clusters**"
   ]
  },
  {
   "cell_type": "code",
   "execution_count": 159,
   "metadata": {
    "ExecuteTime": {
     "end_time": "2021-11-28T19:12:19.628557Z",
     "start_time": "2021-11-28T19:12:19.610045Z"
    }
   },
   "outputs": [],
   "source": [
    "train = pd.read_csv(r\"final_country_data.csv\").drop(['Unnamed: 0'], axis=1)"
   ]
  },
  {
   "cell_type": "code",
   "execution_count": 160,
   "metadata": {
    "ExecuteTime": {
     "end_time": "2021-11-28T19:12:20.136426Z",
     "start_time": "2021-11-28T19:12:20.101667Z"
    }
   },
   "outputs": [
    {
     "data": {
      "text/html": [
       "<div>\n",
       "<style scoped>\n",
       "    .dataframe tbody tr th:only-of-type {\n",
       "        vertical-align: middle;\n",
       "    }\n",
       "\n",
       "    .dataframe tbody tr th {\n",
       "        vertical-align: top;\n",
       "    }\n",
       "\n",
       "    .dataframe thead th {\n",
       "        text-align: right;\n",
       "    }\n",
       "</style>\n",
       "<table border=\"1\" class=\"dataframe\">\n",
       "  <thead>\n",
       "    <tr style=\"text-align: right;\">\n",
       "      <th></th>\n",
       "      <th>inflation</th>\n",
       "      <th>life_expec</th>\n",
       "      <th>gdpp</th>\n",
       "      <th>income_and_health</th>\n",
       "      <th>exports/imports</th>\n",
       "      <th>fertility_by_mortality</th>\n",
       "    </tr>\n",
       "  </thead>\n",
       "  <tbody>\n",
       "    <tr>\n",
       "      <th>0</th>\n",
       "      <td>0.157336</td>\n",
       "      <td>-1.619092</td>\n",
       "      <td>-0.679180</td>\n",
       "      <td>-0.723556</td>\n",
       "      <td>-1.580519</td>\n",
       "      <td>-0.709924</td>\n",
       "    </tr>\n",
       "    <tr>\n",
       "      <th>1</th>\n",
       "      <td>-0.312347</td>\n",
       "      <td>0.647866</td>\n",
       "      <td>-0.485623</td>\n",
       "      <td>-0.380583</td>\n",
       "      <td>-0.782954</td>\n",
       "      <td>-0.476184</td>\n",
       "    </tr>\n",
       "  </tbody>\n",
       "</table>\n",
       "</div>"
      ],
      "text/plain": [
       "   inflation  life_expec      gdpp  income_and_health  exports/imports  \\\n",
       "0   0.157336   -1.619092 -0.679180          -0.723556        -1.580519   \n",
       "1  -0.312347    0.647866 -0.485623          -0.380583        -0.782954   \n",
       "\n",
       "   fertility_by_mortality  \n",
       "0               -0.709924  \n",
       "1               -0.476184  "
      ]
     },
     "execution_count": 160,
     "metadata": {},
     "output_type": "execute_result"
    }
   ],
   "source": [
    "train.head(n=2)"
   ]
  },
  {
   "cell_type": "code",
   "execution_count": 121,
   "metadata": {},
   "outputs": [
    {
     "data": {
      "image/png": "[encoded data removed]",
      "text/plain": [
       "<IPython.core.display.Image object>"
      ]
     },
     "execution_count": 121,
     "metadata": {},
     "output_type": "execute_result"
    }
   ],
   "source": [
    "Image(r\"D:\\ML\\Clustering Countries\\inertia.png\")"
   ]
  },
  {
   "cell_type": "code",
   "execution_count": 164,
   "metadata": {
    "ExecuteTime": {
     "end_time": "2021-11-28T19:12:49.220088Z",
     "start_time": "2021-11-28T19:12:46.789631Z"
    }
   },
   "outputs": [
    {
     "data": {
      "image/png": "[encoded data removed]",
      "text/plain": [
       "<Figure size 432x288 with 1 Axes>"
      ]
     },
     "metadata": {
      "needs_background": "light"
     },
     "output_type": "display_data"
    }
   ],
   "source": [
    "inert = []\n",
    "for i in range(3, 20):\n",
    "    km = KMeans(n_clusters=i, init='k-means++', max_iter=400)\n",
    "    km.fit(train)\n",
    "    plt.scatter(i, km.inertia_)\n",
    "    inert.append(km.inertia_)\n",
    "plt.plot([i for i in range(3, 20)], inert, color='black')\n",
    "plt.grid()\n",
    "plt.xlabel(\"Number of clusters\", fontsize=14)\n",
    "plt.ylabel(\"Inertia of model\", fontsize=14)\n",
    "plt.savefig(r'Metrics and Score Plots/inertia.png', dpi=200)"
   ]
  },
  {
   "cell_type": "markdown",
   "metadata": {},
   "source": [
    "# Davies - Bouldin Index\n",
    "- This index looks to **minimize** the ratio of **maximum (intracluster-distances with inter-cluster distances)** for **all the pairs of clusters averaged over all clusters.**\n",
    "- It is import from **sklearn.metrics** as **davies_bouldin_score**\n",
    "- A detailed description is provided **in the pdf file attached.**"
   ]
  },
  {
   "cell_type": "code",
   "execution_count": 165,
   "metadata": {
    "ExecuteTime": {
     "end_time": "2021-11-28T19:12:49.226418Z",
     "start_time": "2021-11-28T19:12:49.222893Z"
    }
   },
   "outputs": [],
   "source": [
    "from sklearn.metrics import davies_bouldin_score"
   ]
  },
  {
   "cell_type": "code",
   "execution_count": 166,
   "metadata": {
    "ExecuteTime": {
     "end_time": "2021-11-28T19:12:51.964474Z",
     "start_time": "2021-11-28T19:12:49.747405Z"
    }
   },
   "outputs": [
    {
     "data": {
      "image/png": "[encoded data removed]",
      "text/plain": [
       "<Figure size 432x288 with 1 Axes>"
      ]
     },
     "metadata": {
      "needs_background": "light"
     },
     "output_type": "display_data"
    }
   ],
   "source": [
    "dbi = []\n",
    "for i in range(3, 20):\n",
    "    km = KMeans(n_clusters=i, init='k-means++', max_iter=400)\n",
    "    km.fit(train)\n",
    "    plt.scatter(i, davies_bouldin_score(train, km.labels_))\n",
    "    dbi.append(davies_bouldin_score(train, km.labels_))\n",
    "plt.plot([i for i in range(3, 20)], dbi, color='black', linewidth=1.3)\n",
    "plt.xlabel(\"Number of Clusters\", fontsize=14)\n",
    "plt.ylabel(\"Davies-Bouldin Index\", fontsize=14)\n",
    "plt.grid()\n",
    "plt.savefig(r'Metrics and Score Plots/davies_bouldin_score.png', dpi=200)"
   ]
  },
  {
   "cell_type": "markdown",
   "metadata": {},
   "source": [
    "- We see that the **DBI** is minimum for number of clusters = 6.\n"
   ]
  },
  {
   "cell_type": "markdown",
   "metadata": {},
   "source": [
    "### Plotting Product of DBI and Inertia"
   ]
  },
  {
   "cell_type": "code",
   "execution_count": 167,
   "metadata": {
    "ExecuteTime": {
     "end_time": "2021-11-28T19:13:02.505315Z",
     "start_time": "2021-11-28T19:12:59.913736Z"
    }
   },
   "outputs": [
    {
     "data": {
      "image/png": "[encoded data removed]",
      "text/plain": [
       "<Figure size 648x648 with 1 Axes>"
      ]
     },
     "metadata": {
      "needs_background": "light"
     },
     "output_type": "display_data"
    }
   ],
   "source": [
    "dbi_inertia = []\n",
    "plt.figure(figsize=(9, 9))\n",
    "\n",
    "for i in range(3, 20):\n",
    "    km = KMeans(n_clusters=i, init='k-means++', max_iter=400)\n",
    "    km.fit(train)\n",
    "\n",
    "    dbi = davies_bouldin_score(train, km.labels_)\n",
    "    inertia = km.inertia_\n",
    "    dbi_inertia.append(dbi*inertia)\n",
    "    plt.scatter(i, dbi*inertia)\n",
    "\n",
    "\n",
    "plt.plot([i for i in range(3, 20)], dbi_inertia,\n",
    "         marker='s', alpha=0.8, linewidth=1.5)\n",
    "plt.title('Product of DBI and Inertia for the clusters', fontsize=17)\n",
    "plt.xlabel(\"Number of Clusters\", fontsize=14)\n",
    "plt.ylabel(\"Davies-Bouldin Index * Inertia\", fontsize=14)\n",
    "plt.grid()\n",
    "plt.savefig(r'Metrics and Score Plots/DBI_and_inertia.png', dpi=200)"
   ]
  },
  {
   "cell_type": "markdown",
   "metadata": {},
   "source": [
    "# Final Model\n",
    "- The final model that is used has-\n",
    " - **Clusters**- 7\n",
    " - **Initialization Algorithm**- KMeans ++\n",
    " - **Max- Iterations**- 400\n",
    " - **Distance Metric**- Euclidean"
   ]
  },
  {
   "cell_type": "code",
   "execution_count": 168,
   "metadata": {
    "ExecuteTime": {
     "end_time": "2021-11-28T19:13:28.166089Z",
     "start_time": "2021-11-28T19:13:27.980249Z"
    }
   },
   "outputs": [
    {
     "data": {
      "text/plain": [
       "KMeans(max_iter=400, n_clusters=7)"
      ]
     },
     "execution_count": 168,
     "metadata": {},
     "output_type": "execute_result"
    }
   ],
   "source": [
    "km = KMeans(n_clusters=7, init='k-means++', max_iter=400)\n",
    "km.fit(train)"
   ]
  },
  {
   "cell_type": "code",
   "execution_count": 169,
   "metadata": {
    "ExecuteTime": {
     "end_time": "2021-11-28T19:13:29.197857Z",
     "start_time": "2021-11-28T19:13:29.171509Z"
    }
   },
   "outputs": [
    {
     "data": {
      "text/plain": [
       "0.9284857896302745"
      ]
     },
     "execution_count": 169,
     "metadata": {},
     "output_type": "execute_result"
    }
   ],
   "source": [
    "davies_bouldin_score(train, km.labels_)"
   ]
  },
  {
   "cell_type": "code",
   "execution_count": 170,
   "metadata": {
    "ExecuteTime": {
     "end_time": "2021-11-28T19:13:30.497127Z",
     "start_time": "2021-11-28T19:13:30.487537Z"
    }
   },
   "outputs": [
    {
     "data": {
      "text/plain": [
       "228.52713288315027"
      ]
     },
     "execution_count": 170,
     "metadata": {},
     "output_type": "execute_result"
    }
   ],
   "source": [
    "km.inertia_"
   ]
  },
  {
   "cell_type": "code",
   "execution_count": 171,
   "metadata": {
    "ExecuteTime": {
     "end_time": "2021-11-28T19:13:33.644270Z",
     "start_time": "2021-11-28T19:13:33.626304Z"
    },
    "scrolled": false
   },
   "outputs": [
    {
     "data": {
      "text/plain": [
       "array([1, 2, 5, 5, 2, 5, 2, 0, 0, 4, 2, 6, 2, 2, 2, 0, 2, 1, 2, 5, 2, 1,\n",
       "       2, 4, 2, 1, 1, 1, 1, 0, 2, 1, 1, 2, 2, 2, 1, 1, 5, 2, 1, 2, 6, 6,\n",
       "       0, 2, 2, 2, 2, 5, 1, 6, 1, 0, 0, 4, 1, 2, 0, 1, 6, 2, 2, 1, 1, 1,\n",
       "       1, 2, 0, 1, 5, 5, 5, 0, 6, 6, 2, 0, 2, 5, 1, 1, 4, 1, 1, 2, 2, 1,\n",
       "       1, 5, 2, 0, 2, 1, 1, 2, 2, 1, 6, 5, 2, 1, 1, 5, 2, 2, 1, 5, 1, 1,\n",
       "       0, 6, 1, 3, 0, 5, 1, 2, 2, 2, 2, 2, 6, 4, 2, 5, 1, 2, 5, 1, 2, 2,\n",
       "       1, 6, 2, 6, 1, 1, 6, 6, 5, 2, 5, 5, 0, 0, 1, 1, 2, 1, 1, 2, 2, 2,\n",
       "       5, 1, 5, 6, 6, 0, 2, 5, 1, 5, 2, 5, 1], dtype=int32)"
      ]
     },
     "execution_count": 171,
     "metadata": {},
     "output_type": "execute_result"
    }
   ],
   "source": [
    "km.labels_"
   ]
  },
  {
   "cell_type": "code",
   "execution_count": 172,
   "metadata": {
    "ExecuteTime": {
     "end_time": "2021-11-28T19:13:36.082403Z",
     "start_time": "2021-11-28T19:13:36.073713Z"
    }
   },
   "outputs": [],
   "source": [
    "clusters = pd.DataFrame(km.cluster_centers_, columns=train.columns)"
   ]
  },
  {
   "cell_type": "code",
   "execution_count": 173,
   "metadata": {
    "ExecuteTime": {
     "end_time": "2021-11-28T19:13:36.983007Z",
     "start_time": "2021-11-28T19:13:36.964075Z"
    },
    "scrolled": false
   },
   "outputs": [
    {
     "name": "stdout",
     "output_type": "stream",
     "text": [
      "CLUSTERED COUNTRIES\n",
      "Label  1 : ['Afghanistan', 'Benin', 'Botswana', 'Burkina Faso', 'Burundi', 'Cambodia', 'Cameroon', 'Central African Republic', 'Chad', 'Comoros', 'Congo, Dem. Rep.', \"Cote d'Ivoire\", 'Eritrea', 'Fiji', 'Gambia', 'Ghana', 'Guinea', 'Guinea-Bissau', 'Guyana', 'Haiti', 'India', 'Kenya', 'Kiribati', 'Kyrgyz Republic', 'Lao', 'Lesotho', 'Liberia', 'Madagascar', 'Malawi', 'Mali', 'Micronesia, Fed. Sts.', 'Moldova', 'Mozambique', 'Namibia', 'Nepal', 'Niger', 'Pakistan', 'Rwanda', 'Senegal', 'Sierra Leone', 'Solomon Islands', 'South Africa', 'Tajikistan', 'Tanzania', 'Timor-Leste', 'Togo', 'Uganda', 'Vanuatu', 'Zambia']\n",
      "\n",
      "Label  2 : ['Albania', 'Antigua and Barbuda', 'Armenia', 'Bahamas', 'Bangladesh', 'Barbados', 'Belarus', 'Belize', 'Bhutan', 'Bosnia and Herzegovina', 'Brazil', 'Bulgaria', 'Cape Verde', 'Chile', 'China', 'Colombia', 'Costa Rica', 'Croatia', 'Dominican Republic', 'Ecuador', 'Egypt', 'El Salvador', 'Georgia', 'Grenada', 'Guatemala', 'Hungary', 'Jamaica', 'Jordan', 'Latvia', 'Lebanon', 'Lithuania', 'Macedonia, FYR', 'Malaysia', 'Maldives', 'Mauritius', 'Montenegro', 'Morocco', 'Panama', 'Paraguay', 'Peru', 'Philippines', 'Poland', 'Romania', 'Samoa', 'Serbia', 'Seychelles', 'Slovak Republic', 'St. Vincent and the Grenadines', 'Thailand', 'Tonga', 'Tunisia', 'Turkey', 'Uruguay', 'Vietnam']\n",
      "\n",
      "Label  5 : ['Algeria', 'Angola', 'Argentina', 'Bolivia', 'Congo, Rep.', 'Equatorial Guinea', 'Indonesia', 'Iran', 'Iraq', 'Kazakhstan', 'Libya', 'Mauritania', 'Mongolia', 'Myanmar', 'Oman', 'Russia', 'Saudi Arabia', 'Sri Lanka', 'Sudan', 'Suriname', 'Turkmenistan', 'Ukraine', 'Uzbekistan', 'Venezuela', 'Yemen']\n",
      "\n",
      "Label  0 : ['Australia', 'Austria', 'Belgium', 'Canada', 'Denmark', 'Finland', 'France', 'Germany', 'Iceland', 'Ireland', 'Japan', 'Luxembourg', 'Netherlands', 'Norway', 'Sweden', 'Switzerland', 'United States']\n",
      "\n",
      "Label  4 : ['Azerbaijan', 'Brunei', 'Gabon', 'Kuwait', 'Qatar']\n",
      "\n",
      "Label  6 : ['Bahrain', 'Cyprus', 'Czech Republic', 'Estonia', 'Greece', 'Israel', 'Italy', 'Malta', 'New Zealand', 'Portugal', 'Singapore', 'Slovenia', 'South Korea', 'Spain', 'United Arab Emirates', 'United Kingdom']\n",
      "\n",
      "Label  3 : ['Nigeria']\n",
      "\n"
     ]
    }
   ],
   "source": [
    "label_dict = dict()\n",
    "for i, j in zip(km.labels_, df_raw.country):\n",
    "    if(i not in label_dict):\n",
    "        label_dict[i] = []\n",
    "    label_dict[i].append(j)\n",
    "print(\"CLUSTERED COUNTRIES\")\n",
    "for k, j in label_dict.items():\n",
    "    print(\"Label \", k, \":\", j)\n",
    "    print()"
   ]
  },
  {
   "cell_type": "code",
   "execution_count": 174,
   "metadata": {
    "ExecuteTime": {
     "end_time": "2021-11-28T19:13:53.214352Z",
     "start_time": "2021-11-28T19:13:53.167472Z"
    },
    "scrolled": true
   },
   "outputs": [
    {
     "data": {
      "text/html": [
       "<div>\n",
       "<style scoped>\n",
       "    .dataframe tbody tr th:only-of-type {\n",
       "        vertical-align: middle;\n",
       "    }\n",
       "\n",
       "    .dataframe tbody tr th {\n",
       "        vertical-align: top;\n",
       "    }\n",
       "\n",
       "    .dataframe thead th {\n",
       "        text-align: right;\n",
       "    }\n",
       "</style>\n",
       "<table border=\"1\" class=\"dataframe\">\n",
       "  <thead>\n",
       "    <tr style=\"text-align: right;\">\n",
       "      <th></th>\n",
       "      <th>inflation</th>\n",
       "      <th>life_expec</th>\n",
       "      <th>gdpp</th>\n",
       "      <th>income_and_health</th>\n",
       "      <th>exports/imports</th>\n",
       "      <th>fertility_by_mortality</th>\n",
       "    </tr>\n",
       "  </thead>\n",
       "  <tbody>\n",
       "    <tr>\n",
       "      <th>1</th>\n",
       "      <td>0.000591</td>\n",
       "      <td>-1.197188</td>\n",
       "      <td>-0.634395</td>\n",
       "      <td>-0.680472</td>\n",
       "      <td>-0.753107</td>\n",
       "      <td>-0.718446</td>\n",
       "    </tr>\n",
       "    <tr>\n",
       "      <th>3</th>\n",
       "      <td>9.129718</td>\n",
       "      <td>-1.134121</td>\n",
       "      <td>-0.581936</td>\n",
       "      <td>-0.633286</td>\n",
       "      <td>1.198220</td>\n",
       "      <td>-0.841291</td>\n",
       "    </tr>\n",
       "    <tr>\n",
       "      <th>5</th>\n",
       "      <td>1.002691</td>\n",
       "      <td>-0.089741</td>\n",
       "      <td>-0.346630</td>\n",
       "      <td>-0.361140</td>\n",
       "      <td>0.794303</td>\n",
       "      <td>-0.424481</td>\n",
       "    </tr>\n",
       "    <tr>\n",
       "      <th>2</th>\n",
       "      <td>-0.338808</td>\n",
       "      <td>0.447153</td>\n",
       "      <td>-0.316905</td>\n",
       "      <td>-0.243037</td>\n",
       "      <td>-0.240986</td>\n",
       "      <td>-0.145206</td>\n",
       "    </tr>\n",
       "    <tr>\n",
       "      <th>4</th>\n",
       "      <td>0.500443</td>\n",
       "      <td>0.316281</td>\n",
       "      <td>1.027367</td>\n",
       "      <td>0.236979</td>\n",
       "      <td>3.736986</td>\n",
       "      <td>-0.173359</td>\n",
       "    </tr>\n",
       "    <tr>\n",
       "      <th>6</th>\n",
       "      <td>-0.518475</td>\n",
       "      <td>1.029217</td>\n",
       "      <td>0.840596</td>\n",
       "      <td>0.876503</td>\n",
       "      <td>0.215345</td>\n",
       "      <td>1.341707</td>\n",
       "    </tr>\n",
       "    <tr>\n",
       "      <th>0</th>\n",
       "      <td>-0.596290</td>\n",
       "      <td>1.167336</td>\n",
       "      <td>2.285855</td>\n",
       "      <td>2.407058</td>\n",
       "      <td>0.395839</td>\n",
       "      <td>1.993987</td>\n",
       "    </tr>\n",
       "  </tbody>\n",
       "</table>\n",
       "</div>"
      ],
      "text/plain": [
       "   inflation  life_expec      gdpp  income_and_health  exports/imports  \\\n",
       "1   0.000591   -1.197188 -0.634395          -0.680472        -0.753107   \n",
       "3   9.129718   -1.134121 -0.581936          -0.633286         1.198220   \n",
       "5   1.002691   -0.089741 -0.346630          -0.361140         0.794303   \n",
       "2  -0.338808    0.447153 -0.316905          -0.243037        -0.240986   \n",
       "4   0.500443    0.316281  1.027367           0.236979         3.736986   \n",
       "6  -0.518475    1.029217  0.840596           0.876503         0.215345   \n",
       "0  -0.596290    1.167336  2.285855           2.407058         0.395839   \n",
       "\n",
       "   fertility_by_mortality  \n",
       "1               -0.718446  \n",
       "3               -0.841291  \n",
       "5               -0.424481  \n",
       "2               -0.145206  \n",
       "4               -0.173359  \n",
       "6                1.341707  \n",
       "0                1.993987  "
      ]
     },
     "execution_count": 174,
     "metadata": {},
     "output_type": "execute_result"
    }
   ],
   "source": [
    "clusters.sort_values('income_and_health')"
   ]
  },
  {
   "cell_type": "markdown",
   "metadata": {},
   "source": [
    "- The cluster Data Frame is sorted according to the **income and health product**.\n",
    "- According to the **cluster dataframe**, it is noted that the countries clustered around **labels 3 and 1** had the **lowest cluster income and GDP percapita**.\n",
    "- It was also noted that those countries had the **highest fertility and mortality product** which made them candidates that would actually require **external socio - economic help**"
   ]
  },
  {
   "cell_type": "markdown",
   "metadata": {},
   "source": [
    "# Making new Dataframe for Cluster"
   ]
  },
  {
   "cell_type": "markdown",
   "metadata": {},
   "source": [
    "### - Clusters 1 and 3\n",
    "- This cluster represents the **most in need countries amongst the data set**.\n",
    "- This cluster is now analysed according to different variables and the **top 20** countries are extracted out of it on this basis."
   ]
  },
  {
   "cell_type": "code",
   "execution_count": 178,
   "metadata": {
    "ExecuteTime": {
     "end_time": "2021-11-28T19:15:54.624043Z",
     "start_time": "2021-11-28T19:15:53.916304Z"
    }
   },
   "outputs": [],
   "source": [
    "countries = label_dict[1]\n",
    "\n",
    "# adding nigeria too...\n",
    "countries.append(\"Nigeria\")\n",
    "df_label = pd.DataFrame(columns=df_raw.columns)\n",
    "df_new = pd.DataFrame(columns=df_raw.columns)\n",
    "for c in df_raw.country:\n",
    "    if(c in countries):\n",
    "        df_label = df_label.append(df_raw.loc[df_raw.country == c])\n",
    "    else:\n",
    "        df_new = df_new.append(df_raw.loc[df_raw.country == c])"
   ]
  },
  {
   "cell_type": "markdown",
   "metadata": {},
   "source": [
    "# Clustered Countries"
   ]
  },
  {
   "cell_type": "code",
   "execution_count": 179,
   "metadata": {
    "ExecuteTime": {
     "end_time": "2021-11-28T19:15:55.981930Z",
     "start_time": "2021-11-28T19:15:55.963285Z"
    }
   },
   "outputs": [
    {
     "data": {
      "text/html": [
       "<div>\n",
       "<style scoped>\n",
       "    .dataframe tbody tr th:only-of-type {\n",
       "        vertical-align: middle;\n",
       "    }\n",
       "\n",
       "    .dataframe tbody tr th {\n",
       "        vertical-align: top;\n",
       "    }\n",
       "\n",
       "    .dataframe thead th {\n",
       "        text-align: right;\n",
       "    }\n",
       "</style>\n",
       "<table border=\"1\" class=\"dataframe\">\n",
       "  <thead>\n",
       "    <tr style=\"text-align: right;\">\n",
       "      <th></th>\n",
       "      <th>country</th>\n",
       "      <th>inflation</th>\n",
       "      <th>life_expec</th>\n",
       "      <th>gdpp</th>\n",
       "      <th>income_and_health</th>\n",
       "      <th>exports/imports</th>\n",
       "      <th>fertility_by_mortality</th>\n",
       "    </tr>\n",
       "  </thead>\n",
       "  <tbody>\n",
       "    <tr>\n",
       "      <th>0</th>\n",
       "      <td>Afghanistan</td>\n",
       "      <td>9.440</td>\n",
       "      <td>56.2</td>\n",
       "      <td>553</td>\n",
       "      <td>12203.8</td>\n",
       "      <td>0.222717</td>\n",
       "      <td>0.064523</td>\n",
       "    </tr>\n",
       "    <tr>\n",
       "      <th>17</th>\n",
       "      <td>Benin</td>\n",
       "      <td>0.885</td>\n",
       "      <td>61.8</td>\n",
       "      <td>758</td>\n",
       "      <td>7462.0</td>\n",
       "      <td>0.639785</td>\n",
       "      <td>0.048288</td>\n",
       "    </tr>\n",
       "    <tr>\n",
       "      <th>21</th>\n",
       "      <td>Botswana</td>\n",
       "      <td>8.920</td>\n",
       "      <td>57.1</td>\n",
       "      <td>6350</td>\n",
       "      <td>110390.0</td>\n",
       "      <td>0.849903</td>\n",
       "      <td>0.054857</td>\n",
       "    </tr>\n",
       "    <tr>\n",
       "      <th>25</th>\n",
       "      <td>Burkina Faso</td>\n",
       "      <td>6.810</td>\n",
       "      <td>57.9</td>\n",
       "      <td>575</td>\n",
       "      <td>9638.2</td>\n",
       "      <td>0.648649</td>\n",
       "      <td>0.050603</td>\n",
       "    </tr>\n",
       "    <tr>\n",
       "      <th>26</th>\n",
       "      <td>Burundi</td>\n",
       "      <td>12.300</td>\n",
       "      <td>57.7</td>\n",
       "      <td>231</td>\n",
       "      <td>8862.4</td>\n",
       "      <td>0.227551</td>\n",
       "      <td>0.066880</td>\n",
       "    </tr>\n",
       "  </tbody>\n",
       "</table>\n",
       "</div>"
      ],
      "text/plain": [
       "         country  inflation  life_expec  gdpp  income_and_health  \\\n",
       "0    Afghanistan      9.440        56.2   553            12203.8   \n",
       "17         Benin      0.885        61.8   758             7462.0   \n",
       "21      Botswana      8.920        57.1  6350           110390.0   \n",
       "25  Burkina Faso      6.810        57.9   575             9638.2   \n",
       "26       Burundi     12.300        57.7   231             8862.4   \n",
       "\n",
       "    exports/imports  fertility_by_mortality  \n",
       "0          0.222717                0.064523  \n",
       "17         0.639785                0.048288  \n",
       "21         0.849903                0.054857  \n",
       "25         0.648649                0.050603  \n",
       "26         0.227551                0.066880  "
      ]
     },
     "execution_count": 179,
     "metadata": {},
     "output_type": "execute_result"
    }
   ],
   "source": [
    "df_label.head()"
   ]
  },
  {
   "cell_type": "markdown",
   "metadata": {},
   "source": [
    "# Other countries"
   ]
  },
  {
   "cell_type": "code",
   "execution_count": 180,
   "metadata": {
    "ExecuteTime": {
     "end_time": "2021-11-28T19:15:58.094293Z",
     "start_time": "2021-11-28T19:15:58.047111Z"
    }
   },
   "outputs": [
    {
     "data": {
      "text/html": [
       "<div>\n",
       "<style scoped>\n",
       "    .dataframe tbody tr th:only-of-type {\n",
       "        vertical-align: middle;\n",
       "    }\n",
       "\n",
       "    .dataframe tbody tr th {\n",
       "        vertical-align: top;\n",
       "    }\n",
       "\n",
       "    .dataframe thead th {\n",
       "        text-align: right;\n",
       "    }\n",
       "</style>\n",
       "<table border=\"1\" class=\"dataframe\">\n",
       "  <thead>\n",
       "    <tr style=\"text-align: right;\">\n",
       "      <th></th>\n",
       "      <th>country</th>\n",
       "      <th>inflation</th>\n",
       "      <th>life_expec</th>\n",
       "      <th>gdpp</th>\n",
       "      <th>income_and_health</th>\n",
       "      <th>exports/imports</th>\n",
       "      <th>fertility_by_mortality</th>\n",
       "    </tr>\n",
       "  </thead>\n",
       "  <tbody>\n",
       "    <tr>\n",
       "      <th>1</th>\n",
       "      <td>Albania</td>\n",
       "      <td>4.49</td>\n",
       "      <td>76.3</td>\n",
       "      <td>4090</td>\n",
       "      <td>65041.5</td>\n",
       "      <td>0.576132</td>\n",
       "      <td>0.099398</td>\n",
       "    </tr>\n",
       "    <tr>\n",
       "      <th>2</th>\n",
       "      <td>Algeria</td>\n",
       "      <td>16.10</td>\n",
       "      <td>76.5</td>\n",
       "      <td>4460</td>\n",
       "      <td>53793.0</td>\n",
       "      <td>1.222930</td>\n",
       "      <td>0.105861</td>\n",
       "    </tr>\n",
       "    <tr>\n",
       "      <th>3</th>\n",
       "      <td>Angola</td>\n",
       "      <td>22.40</td>\n",
       "      <td>60.1</td>\n",
       "      <td>3530</td>\n",
       "      <td>16815.0</td>\n",
       "      <td>1.452214</td>\n",
       "      <td>0.051765</td>\n",
       "    </tr>\n",
       "    <tr>\n",
       "      <th>4</th>\n",
       "      <td>Antigua and Barbuda</td>\n",
       "      <td>1.44</td>\n",
       "      <td>76.8</td>\n",
       "      <td>12200</td>\n",
       "      <td>115173.0</td>\n",
       "      <td>0.772496</td>\n",
       "      <td>0.206796</td>\n",
       "    </tr>\n",
       "    <tr>\n",
       "      <th>5</th>\n",
       "      <td>Argentina</td>\n",
       "      <td>20.90</td>\n",
       "      <td>75.8</td>\n",
       "      <td>10300</td>\n",
       "      <td>151470.0</td>\n",
       "      <td>1.181250</td>\n",
       "      <td>0.163448</td>\n",
       "    </tr>\n",
       "    <tr>\n",
       "      <th>...</th>\n",
       "      <td>...</td>\n",
       "      <td>...</td>\n",
       "      <td>...</td>\n",
       "      <td>...</td>\n",
       "      <td>...</td>\n",
       "      <td>...</td>\n",
       "      <td>...</td>\n",
       "    </tr>\n",
       "    <tr>\n",
       "      <th>160</th>\n",
       "      <td>Uruguay</td>\n",
       "      <td>4.91</td>\n",
       "      <td>76.4</td>\n",
       "      <td>11900</td>\n",
       "      <td>142785.0</td>\n",
       "      <td>1.035433</td>\n",
       "      <td>0.196226</td>\n",
       "    </tr>\n",
       "    <tr>\n",
       "      <th>161</th>\n",
       "      <td>Uzbekistan</td>\n",
       "      <td>16.50</td>\n",
       "      <td>68.8</td>\n",
       "      <td>1380</td>\n",
       "      <td>24634.4</td>\n",
       "      <td>1.112281</td>\n",
       "      <td>0.064463</td>\n",
       "    </tr>\n",
       "    <tr>\n",
       "      <th>163</th>\n",
       "      <td>Venezuela</td>\n",
       "      <td>45.90</td>\n",
       "      <td>75.4</td>\n",
       "      <td>13500</td>\n",
       "      <td>81015.0</td>\n",
       "      <td>1.619318</td>\n",
       "      <td>0.144444</td>\n",
       "    </tr>\n",
       "    <tr>\n",
       "      <th>164</th>\n",
       "      <td>Vietnam</td>\n",
       "      <td>12.10</td>\n",
       "      <td>73.1</td>\n",
       "      <td>1310</td>\n",
       "      <td>30711.6</td>\n",
       "      <td>0.897756</td>\n",
       "      <td>0.083691</td>\n",
       "    </tr>\n",
       "    <tr>\n",
       "      <th>165</th>\n",
       "      <td>Yemen</td>\n",
       "      <td>23.60</td>\n",
       "      <td>67.5</td>\n",
       "      <td>1310</td>\n",
       "      <td>23206.4</td>\n",
       "      <td>0.872093</td>\n",
       "      <td>0.082948</td>\n",
       "    </tr>\n",
       "  </tbody>\n",
       "</table>\n",
       "<p>117 rows × 7 columns</p>\n",
       "</div>"
      ],
      "text/plain": [
       "                 country  inflation  life_expec   gdpp  income_and_health  \\\n",
       "1                Albania       4.49        76.3   4090            65041.5   \n",
       "2                Algeria      16.10        76.5   4460            53793.0   \n",
       "3                 Angola      22.40        60.1   3530            16815.0   \n",
       "4    Antigua and Barbuda       1.44        76.8  12200           115173.0   \n",
       "5              Argentina      20.90        75.8  10300           151470.0   \n",
       "..                   ...        ...         ...    ...                ...   \n",
       "160              Uruguay       4.91        76.4  11900           142785.0   \n",
       "161           Uzbekistan      16.50        68.8   1380            24634.4   \n",
       "163            Venezuela      45.90        75.4  13500            81015.0   \n",
       "164              Vietnam      12.10        73.1   1310            30711.6   \n",
       "165                Yemen      23.60        67.5   1310            23206.4   \n",
       "\n",
       "     exports/imports  fertility_by_mortality  \n",
       "1           0.576132                0.099398  \n",
       "2           1.222930                0.105861  \n",
       "3           1.452214                0.051765  \n",
       "4           0.772496                0.206796  \n",
       "5           1.181250                0.163448  \n",
       "..               ...                     ...  \n",
       "160         1.035433                0.196226  \n",
       "161         1.112281                0.064463  \n",
       "163         1.619318                0.144444  \n",
       "164         0.897756                0.083691  \n",
       "165         0.872093                0.082948  \n",
       "\n",
       "[117 rows x 7 columns]"
      ]
     },
     "execution_count": 180,
     "metadata": {},
     "output_type": "execute_result"
    }
   ],
   "source": [
    "df_new"
   ]
  },
  {
   "cell_type": "code",
   "execution_count": 181,
   "metadata": {
    "ExecuteTime": {
     "end_time": "2021-11-28T19:16:03.169282Z",
     "start_time": "2021-11-28T19:16:03.156541Z"
    }
   },
   "outputs": [],
   "source": [
    "df_label.gdpp = df_label.gdpp.astype(float, copy=True)"
   ]
  },
  {
   "cell_type": "code",
   "execution_count": 182,
   "metadata": {
    "ExecuteTime": {
     "end_time": "2021-11-28T19:16:03.774603Z",
     "start_time": "2021-11-28T19:16:03.760880Z"
    }
   },
   "outputs": [],
   "source": [
    "df_new.gdpp = df_new.gdpp.astype(float, copy=True)"
   ]
  },
  {
   "cell_type": "code",
   "execution_count": 183,
   "metadata": {
    "ExecuteTime": {
     "end_time": "2021-11-28T19:16:04.369906Z",
     "start_time": "2021-11-28T19:16:04.281770Z"
    }
   },
   "outputs": [
    {
     "data": {
      "text/html": [
       "<div>\n",
       "<style scoped>\n",
       "    .dataframe tbody tr th:only-of-type {\n",
       "        vertical-align: middle;\n",
       "    }\n",
       "\n",
       "    .dataframe tbody tr th {\n",
       "        vertical-align: top;\n",
       "    }\n",
       "\n",
       "    .dataframe thead th {\n",
       "        text-align: right;\n",
       "    }\n",
       "</style>\n",
       "<table border=\"1\" class=\"dataframe\">\n",
       "  <thead>\n",
       "    <tr style=\"text-align: right;\">\n",
       "      <th></th>\n",
       "      <th>inflation</th>\n",
       "      <th>life_expec</th>\n",
       "      <th>gdpp</th>\n",
       "      <th>income_and_health</th>\n",
       "      <th>exports/imports</th>\n",
       "      <th>fertility_by_mortality</th>\n",
       "    </tr>\n",
       "  </thead>\n",
       "  <tbody>\n",
       "    <tr>\n",
       "      <th>count</th>\n",
       "      <td>50.000000</td>\n",
       "      <td>50.0000</td>\n",
       "      <td>50.00000</td>\n",
       "      <td>50.000000</td>\n",
       "      <td>50.000000</td>\n",
       "      <td>50.000000</td>\n",
       "    </tr>\n",
       "    <tr>\n",
       "      <th>mean</th>\n",
       "      <td>9.712300</td>\n",
       "      <td>59.9520</td>\n",
       "      <td>1390.56000</td>\n",
       "      <td>18986.495000</td>\n",
       "      <td>0.606650</td>\n",
       "      <td>0.062885</td>\n",
       "    </tr>\n",
       "    <tr>\n",
       "      <th>std</th>\n",
       "      <td>14.677503</td>\n",
       "      <td>6.7292</td>\n",
       "      <td>1514.82143</td>\n",
       "      <td>21647.651334</td>\n",
       "      <td>0.286871</td>\n",
       "      <td>0.023685</td>\n",
       "    </tr>\n",
       "    <tr>\n",
       "      <th>min</th>\n",
       "      <td>0.885000</td>\n",
       "      <td>32.1000</td>\n",
       "      <td>231.00000</td>\n",
       "      <td>3534.240000</td>\n",
       "      <td>0.079137</td>\n",
       "      <td>0.016010</td>\n",
       "    </tr>\n",
       "    <tr>\n",
       "      <th>25%</th>\n",
       "      <td>3.620000</td>\n",
       "      <td>56.8750</td>\n",
       "      <td>555.25000</td>\n",
       "      <td>8960.925000</td>\n",
       "      <td>0.405824</td>\n",
       "      <td>0.047915</td>\n",
       "    </tr>\n",
       "    <tr>\n",
       "      <th>50%</th>\n",
       "      <td>6.600000</td>\n",
       "      <td>60.6000</td>\n",
       "      <td>777.50000</td>\n",
       "      <td>12589.350000</td>\n",
       "      <td>0.635682</td>\n",
       "      <td>0.057918</td>\n",
       "    </tr>\n",
       "    <tr>\n",
       "      <th>75%</th>\n",
       "      <td>11.050000</td>\n",
       "      <td>65.1250</td>\n",
       "      <td>1340.00000</td>\n",
       "      <td>17653.500000</td>\n",
       "      <td>0.770123</td>\n",
       "      <td>0.071059</td>\n",
       "    </tr>\n",
       "    <tr>\n",
       "      <th>max</th>\n",
       "      <td>104.000000</td>\n",
       "      <td>71.1000</td>\n",
       "      <td>7280.00000</td>\n",
       "      <td>110390.000000</td>\n",
       "      <td>1.454023</td>\n",
       "      <td>0.150890</td>\n",
       "    </tr>\n",
       "  </tbody>\n",
       "</table>\n",
       "</div>"
      ],
      "text/plain": [
       "        inflation  life_expec        gdpp  income_and_health  exports/imports  \\\n",
       "count   50.000000     50.0000    50.00000          50.000000        50.000000   \n",
       "mean     9.712300     59.9520  1390.56000       18986.495000         0.606650   \n",
       "std     14.677503      6.7292  1514.82143       21647.651334         0.286871   \n",
       "min      0.885000     32.1000   231.00000        3534.240000         0.079137   \n",
       "25%      3.620000     56.8750   555.25000        8960.925000         0.405824   \n",
       "50%      6.600000     60.6000   777.50000       12589.350000         0.635682   \n",
       "75%     11.050000     65.1250  1340.00000       17653.500000         0.770123   \n",
       "max    104.000000     71.1000  7280.00000      110390.000000         1.454023   \n",
       "\n",
       "       fertility_by_mortality  \n",
       "count               50.000000  \n",
       "mean                 0.062885  \n",
       "std                  0.023685  \n",
       "min                  0.016010  \n",
       "25%                  0.047915  \n",
       "50%                  0.057918  \n",
       "75%                  0.071059  \n",
       "max                  0.150890  "
      ]
     },
     "execution_count": 183,
     "metadata": {},
     "output_type": "execute_result"
    }
   ],
   "source": [
    "df_label.describe()"
   ]
  },
  {
   "cell_type": "code",
   "execution_count": 184,
   "metadata": {
    "ExecuteTime": {
     "end_time": "2021-11-28T19:16:06.096508Z",
     "start_time": "2021-11-28T19:16:06.010346Z"
    }
   },
   "outputs": [
    {
     "data": {
      "text/html": [
       "<div>\n",
       "<style scoped>\n",
       "    .dataframe tbody tr th:only-of-type {\n",
       "        vertical-align: middle;\n",
       "    }\n",
       "\n",
       "    .dataframe tbody tr th {\n",
       "        vertical-align: top;\n",
       "    }\n",
       "\n",
       "    .dataframe thead th {\n",
       "        text-align: right;\n",
       "    }\n",
       "</style>\n",
       "<table border=\"1\" class=\"dataframe\">\n",
       "  <thead>\n",
       "    <tr style=\"text-align: right;\">\n",
       "      <th></th>\n",
       "      <th>inflation</th>\n",
       "      <th>life_expec</th>\n",
       "      <th>gdpp</th>\n",
       "      <th>income_and_health</th>\n",
       "      <th>exports/imports</th>\n",
       "      <th>fertility_by_mortality</th>\n",
       "    </tr>\n",
       "  </thead>\n",
       "  <tbody>\n",
       "    <tr>\n",
       "      <th>count</th>\n",
       "      <td>117.000000</td>\n",
       "      <td>117.000000</td>\n",
       "      <td>117.000000</td>\n",
       "      <td>117.000000</td>\n",
       "      <td>117.000000</td>\n",
       "      <td>117.000000</td>\n",
       "    </tr>\n",
       "    <tr>\n",
       "      <th>mean</th>\n",
       "      <td>6.956846</td>\n",
       "      <td>75.087179</td>\n",
       "      <td>17910.136752</td>\n",
       "      <td>168411.451282</td>\n",
       "      <td>1.058294</td>\n",
       "      <td>0.216411</td>\n",
       "    </tr>\n",
       "    <tr>\n",
       "      <th>std</th>\n",
       "      <td>8.161523</td>\n",
       "      <td>4.987425</td>\n",
       "      <td>19934.005577</td>\n",
       "      <td>165009.390657</td>\n",
       "      <td>0.431646</td>\n",
       "      <td>0.157142</td>\n",
       "    </tr>\n",
       "    <tr>\n",
       "      <th>min</th>\n",
       "      <td>-4.210000</td>\n",
       "      <td>60.100000</td>\n",
       "      <td>758.000000</td>\n",
       "      <td>7328.400000</td>\n",
       "      <td>0.205638</td>\n",
       "      <td>0.037422</td>\n",
       "    </tr>\n",
       "    <tr>\n",
       "      <th>25%</th>\n",
       "      <td>1.160000</td>\n",
       "      <td>72.100000</td>\n",
       "      <td>4340.000000</td>\n",
       "      <td>50596.800000</td>\n",
       "      <td>0.800915</td>\n",
       "      <td>0.104564</td>\n",
       "    </tr>\n",
       "    <tr>\n",
       "      <th>50%</th>\n",
       "      <td>4.080000</td>\n",
       "      <td>75.800000</td>\n",
       "      <td>9070.000000</td>\n",
       "      <td>114848.000000</td>\n",
       "      <td>0.986877</td>\n",
       "      <td>0.163448</td>\n",
       "    </tr>\n",
       "    <tr>\n",
       "      <th>75%</th>\n",
       "      <td>9.810000</td>\n",
       "      <td>79.500000</td>\n",
       "      <td>26900.000000</td>\n",
       "      <td>223004.000000</td>\n",
       "      <td>1.186544</td>\n",
       "      <td>0.281818</td>\n",
       "    </tr>\n",
       "    <tr>\n",
       "      <th>max</th>\n",
       "      <td>45.900000</td>\n",
       "      <td>82.800000</td>\n",
       "      <td>105000.000000</td>\n",
       "      <td>884260.000000</td>\n",
       "      <td>3.052910</td>\n",
       "      <td>0.846154</td>\n",
       "    </tr>\n",
       "  </tbody>\n",
       "</table>\n",
       "</div>"
      ],
      "text/plain": [
       "        inflation  life_expec           gdpp  income_and_health  \\\n",
       "count  117.000000  117.000000     117.000000         117.000000   \n",
       "mean     6.956846   75.087179   17910.136752      168411.451282   \n",
       "std      8.161523    4.987425   19934.005577      165009.390657   \n",
       "min     -4.210000   60.100000     758.000000        7328.400000   \n",
       "25%      1.160000   72.100000    4340.000000       50596.800000   \n",
       "50%      4.080000   75.800000    9070.000000      114848.000000   \n",
       "75%      9.810000   79.500000   26900.000000      223004.000000   \n",
       "max     45.900000   82.800000  105000.000000      884260.000000   \n",
       "\n",
       "       exports/imports  fertility_by_mortality  \n",
       "count       117.000000              117.000000  \n",
       "mean          1.058294                0.216411  \n",
       "std           0.431646                0.157142  \n",
       "min           0.205638                0.037422  \n",
       "25%           0.800915                0.104564  \n",
       "50%           0.986877                0.163448  \n",
       "75%           1.186544                0.281818  \n",
       "max           3.052910                0.846154  "
      ]
     },
     "execution_count": 184,
     "metadata": {},
     "output_type": "execute_result"
    }
   ],
   "source": [
    "df_new.describe()"
   ]
  },
  {
   "cell_type": "markdown",
   "metadata": {},
   "source": [
    "# Comparison of Income and health"
   ]
  },
  {
   "cell_type": "code",
   "execution_count": 185,
   "metadata": {
    "ExecuteTime": {
     "end_time": "2021-11-28T19:16:09.633373Z",
     "start_time": "2021-11-28T19:16:09.571005Z"
    }
   },
   "outputs": [
    {
     "data": {
      "text/html": [
       "<div>\n",
       "<style scoped>\n",
       "    .dataframe tbody tr th:only-of-type {\n",
       "        vertical-align: middle;\n",
       "    }\n",
       "\n",
       "    .dataframe tbody tr th {\n",
       "        vertical-align: top;\n",
       "    }\n",
       "\n",
       "    .dataframe thead th {\n",
       "        text-align: right;\n",
       "    }\n",
       "</style>\n",
       "<table border=\"1\" class=\"dataframe\">\n",
       "  <thead>\n",
       "    <tr style=\"text-align: right;\">\n",
       "      <th></th>\n",
       "      <th>country</th>\n",
       "      <th>inflation</th>\n",
       "      <th>life_expec</th>\n",
       "      <th>gdpp</th>\n",
       "      <th>income_and_health</th>\n",
       "      <th>exports/imports</th>\n",
       "      <th>fertility_by_mortality</th>\n",
       "    </tr>\n",
       "  </thead>\n",
       "  <tbody>\n",
       "    <tr>\n",
       "      <th>31</th>\n",
       "      <td>Central African Republic</td>\n",
       "      <td>2.010</td>\n",
       "      <td>47.5</td>\n",
       "      <td>446.0</td>\n",
       "      <td>3534.24</td>\n",
       "      <td>0.445283</td>\n",
       "      <td>0.034966</td>\n",
       "    </tr>\n",
       "    <tr>\n",
       "      <th>50</th>\n",
       "      <td>Eritrea</td>\n",
       "      <td>11.600</td>\n",
       "      <td>61.7</td>\n",
       "      <td>482.0</td>\n",
       "      <td>3777.20</td>\n",
       "      <td>0.205579</td>\n",
       "      <td>0.083514</td>\n",
       "    </tr>\n",
       "    <tr>\n",
       "      <th>112</th>\n",
       "      <td>Niger</td>\n",
       "      <td>2.550</td>\n",
       "      <td>58.8</td>\n",
       "      <td>348.0</td>\n",
       "      <td>4200.24</td>\n",
       "      <td>0.452138</td>\n",
       "      <td>0.060894</td>\n",
       "    </tr>\n",
       "    <tr>\n",
       "      <th>106</th>\n",
       "      <td>Mozambique</td>\n",
       "      <td>7.640</td>\n",
       "      <td>54.5</td>\n",
       "      <td>419.0</td>\n",
       "      <td>4782.78</td>\n",
       "      <td>0.681818</td>\n",
       "      <td>0.055050</td>\n",
       "    </tr>\n",
       "    <tr>\n",
       "      <th>37</th>\n",
       "      <td>Congo, Dem. Rep.</td>\n",
       "      <td>20.800</td>\n",
       "      <td>57.5</td>\n",
       "      <td>334.0</td>\n",
       "      <td>4817.19</td>\n",
       "      <td>0.828629</td>\n",
       "      <td>0.056379</td>\n",
       "    </tr>\n",
       "    <tr>\n",
       "      <th>93</th>\n",
       "      <td>Madagascar</td>\n",
       "      <td>8.790</td>\n",
       "      <td>60.8</td>\n",
       "      <td>413.0</td>\n",
       "      <td>5240.30</td>\n",
       "      <td>0.581395</td>\n",
       "      <td>0.073955</td>\n",
       "    </tr>\n",
       "    <tr>\n",
       "      <th>63</th>\n",
       "      <td>Guinea</td>\n",
       "      <td>16.100</td>\n",
       "      <td>58.0</td>\n",
       "      <td>648.0</td>\n",
       "      <td>5866.70</td>\n",
       "      <td>0.701389</td>\n",
       "      <td>0.048991</td>\n",
       "    </tr>\n",
       "    <tr>\n",
       "      <th>36</th>\n",
       "      <td>Comoros</td>\n",
       "      <td>3.870</td>\n",
       "      <td>65.9</td>\n",
       "      <td>769.0</td>\n",
       "      <td>6359.10</td>\n",
       "      <td>0.319149</td>\n",
       "      <td>0.053855</td>\n",
       "    </tr>\n",
       "    <tr>\n",
       "      <th>94</th>\n",
       "      <td>Malawi</td>\n",
       "      <td>12.100</td>\n",
       "      <td>53.1</td>\n",
       "      <td>459.0</td>\n",
       "      <td>6787.70</td>\n",
       "      <td>0.653295</td>\n",
       "      <td>0.058674</td>\n",
       "    </tr>\n",
       "    <tr>\n",
       "      <th>17</th>\n",
       "      <td>Benin</td>\n",
       "      <td>0.885</td>\n",
       "      <td>61.8</td>\n",
       "      <td>758.0</td>\n",
       "      <td>7462.00</td>\n",
       "      <td>0.639785</td>\n",
       "      <td>0.048288</td>\n",
       "    </tr>\n",
       "    <tr>\n",
       "      <th>88</th>\n",
       "      <td>Liberia</td>\n",
       "      <td>5.470</td>\n",
       "      <td>60.8</td>\n",
       "      <td>327.0</td>\n",
       "      <td>8260.00</td>\n",
       "      <td>0.206263</td>\n",
       "      <td>0.056215</td>\n",
       "    </tr>\n",
       "    <tr>\n",
       "      <th>32</th>\n",
       "      <td>Chad</td>\n",
       "      <td>6.390</td>\n",
       "      <td>56.5</td>\n",
       "      <td>897.0</td>\n",
       "      <td>8742.90</td>\n",
       "      <td>0.845977</td>\n",
       "      <td>0.043933</td>\n",
       "    </tr>\n",
       "  </tbody>\n",
       "</table>\n",
       "</div>"
      ],
      "text/plain": [
       "                      country  inflation  life_expec   gdpp  \\\n",
       "31   Central African Republic      2.010        47.5  446.0   \n",
       "50                    Eritrea     11.600        61.7  482.0   \n",
       "112                     Niger      2.550        58.8  348.0   \n",
       "106                Mozambique      7.640        54.5  419.0   \n",
       "37           Congo, Dem. Rep.     20.800        57.5  334.0   \n",
       "93                 Madagascar      8.790        60.8  413.0   \n",
       "63                     Guinea     16.100        58.0  648.0   \n",
       "36                    Comoros      3.870        65.9  769.0   \n",
       "94                     Malawi     12.100        53.1  459.0   \n",
       "17                      Benin      0.885        61.8  758.0   \n",
       "88                    Liberia      5.470        60.8  327.0   \n",
       "32                       Chad      6.390        56.5  897.0   \n",
       "\n",
       "     income_and_health  exports/imports  fertility_by_mortality  \n",
       "31             3534.24         0.445283                0.034966  \n",
       "50             3777.20         0.205579                0.083514  \n",
       "112            4200.24         0.452138                0.060894  \n",
       "106            4782.78         0.681818                0.055050  \n",
       "37             4817.19         0.828629                0.056379  \n",
       "93             5240.30         0.581395                0.073955  \n",
       "63             5866.70         0.701389                0.048991  \n",
       "36             6359.10         0.319149                0.053855  \n",
       "94             6787.70         0.653295                0.058674  \n",
       "17             7462.00         0.639785                0.048288  \n",
       "88             8260.00         0.206263                0.056215  \n",
       "32             8742.90         0.845977                0.043933  "
      ]
     },
     "execution_count": 185,
     "metadata": {},
     "output_type": "execute_result"
    }
   ],
   "source": [
    "df_label.sort_values(\"income_and_health\", ascending=1)[:12]"
   ]
  },
  {
   "cell_type": "code",
   "execution_count": 186,
   "metadata": {
    "ExecuteTime": {
     "end_time": "2021-11-28T19:16:16.224938Z",
     "start_time": "2021-11-28T19:16:16.193618Z"
    }
   },
   "outputs": [
    {
     "name": "stdout",
     "output_type": "stream",
     "text": [
      "Income and Health Statistics \n"
     ]
    },
    {
     "data": {
      "text/plain": [
       "count       117.000000\n",
       "mean     168411.451282\n",
       "std      165009.390657\n",
       "min        7328.400000\n",
       "25%       50596.800000\n",
       "50%      114848.000000\n",
       "75%      223004.000000\n",
       "max      884260.000000\n",
       "Name: income_and_health, dtype: float64"
      ]
     },
     "execution_count": 186,
     "metadata": {},
     "output_type": "execute_result"
    }
   ],
   "source": [
    "print(\"Income and Health Statistics \")\n",
    "df_new.income_and_health.describe()"
   ]
  },
  {
   "cell_type": "markdown",
   "metadata": {},
   "source": [
    "- It is evident that the **income and health product** of the other dataframe that the **countries of this cluster** are very far behind it terms of both **income and health facilities** as the mean income and health of this cluster approximately **10%** of the other countries."
   ]
  },
  {
   "cell_type": "code",
   "execution_count": 189,
   "metadata": {
    "ExecuteTime": {
     "end_time": "2021-11-28T19:18:28.691519Z",
     "start_time": "2021-11-28T19:18:28.198809Z"
    },
    "scrolled": true
   },
   "outputs": [
    {
     "data": {
      "image/png": "[encoded data removed]",
      "text/plain": [
       "<Figure size 432x288 with 1 Axes>"
      ]
     },
     "metadata": {
      "needs_background": "light"
     },
     "output_type": "display_data"
    }
   ],
   "source": [
    "dat = dict()\n",
    "# get 10% level\n",
    "level = 0.1 * np.mean(df_new.income_and_health)\n",
    "\n",
    "for k in df_label.income_and_health:\n",
    "    if(k < level):\n",
    "        dat['Less than 10%'] = dat.get('Less than 10%', 0)+1\n",
    "    else:\n",
    "        dat['Greater than 10%'] = dat.get('Greater than 10%', 0)+1\n",
    "plt.bar([0, 0.5], [dat['Less than 10%'], dat['Greater than 10%']],\n",
    "        width=0.2, alpha=0.5, color=['r','b'])\n",
    "plt.xticks([0, 0.5], ['Less than 10%', 'Greater than 10%'])\n",
    "plt.ylabel(\"Number of countries\", fontsize=13)\n",
    "plt.title(\"The distribution of countries on the\\n basis of Income and health\",\n",
    "          fontweight='bold')\n",
    "plt.savefig(r'Final Cluster Histograms/histo_income_health.png', dpi=200)"
   ]
  },
  {
   "cell_type": "markdown",
   "metadata": {},
   "source": [
    "# Comparison of GDP per capita"
   ]
  },
  {
   "cell_type": "code",
   "execution_count": 190,
   "metadata": {
    "ExecuteTime": {
     "end_time": "2021-11-28T19:18:33.982586Z",
     "start_time": "2021-11-28T19:18:33.917308Z"
    }
   },
   "outputs": [
    {
     "data": {
      "text/html": [
       "<div>\n",
       "<style scoped>\n",
       "    .dataframe tbody tr th:only-of-type {\n",
       "        vertical-align: middle;\n",
       "    }\n",
       "\n",
       "    .dataframe tbody tr th {\n",
       "        vertical-align: top;\n",
       "    }\n",
       "\n",
       "    .dataframe thead th {\n",
       "        text-align: right;\n",
       "    }\n",
       "</style>\n",
       "<table border=\"1\" class=\"dataframe\">\n",
       "  <thead>\n",
       "    <tr style=\"text-align: right;\">\n",
       "      <th></th>\n",
       "      <th>country</th>\n",
       "      <th>inflation</th>\n",
       "      <th>life_expec</th>\n",
       "      <th>gdpp</th>\n",
       "      <th>income_and_health</th>\n",
       "      <th>exports/imports</th>\n",
       "      <th>fertility_by_mortality</th>\n",
       "    </tr>\n",
       "  </thead>\n",
       "  <tbody>\n",
       "    <tr>\n",
       "      <th>26</th>\n",
       "      <td>Burundi</td>\n",
       "      <td>12.30</td>\n",
       "      <td>57.7</td>\n",
       "      <td>231.0</td>\n",
       "      <td>8862.40</td>\n",
       "      <td>0.227551</td>\n",
       "      <td>0.066880</td>\n",
       "    </tr>\n",
       "    <tr>\n",
       "      <th>88</th>\n",
       "      <td>Liberia</td>\n",
       "      <td>5.47</td>\n",
       "      <td>60.8</td>\n",
       "      <td>327.0</td>\n",
       "      <td>8260.00</td>\n",
       "      <td>0.206263</td>\n",
       "      <td>0.056215</td>\n",
       "    </tr>\n",
       "    <tr>\n",
       "      <th>37</th>\n",
       "      <td>Congo, Dem. Rep.</td>\n",
       "      <td>20.80</td>\n",
       "      <td>57.5</td>\n",
       "      <td>334.0</td>\n",
       "      <td>4817.19</td>\n",
       "      <td>0.828629</td>\n",
       "      <td>0.056379</td>\n",
       "    </tr>\n",
       "    <tr>\n",
       "      <th>112</th>\n",
       "      <td>Niger</td>\n",
       "      <td>2.55</td>\n",
       "      <td>58.8</td>\n",
       "      <td>348.0</td>\n",
       "      <td>4200.24</td>\n",
       "      <td>0.452138</td>\n",
       "      <td>0.060894</td>\n",
       "    </tr>\n",
       "    <tr>\n",
       "      <th>132</th>\n",
       "      <td>Sierra Leone</td>\n",
       "      <td>17.20</td>\n",
       "      <td>55.0</td>\n",
       "      <td>399.0</td>\n",
       "      <td>15982.00</td>\n",
       "      <td>0.486957</td>\n",
       "      <td>0.032500</td>\n",
       "    </tr>\n",
       "    <tr>\n",
       "      <th>93</th>\n",
       "      <td>Madagascar</td>\n",
       "      <td>8.79</td>\n",
       "      <td>60.8</td>\n",
       "      <td>413.0</td>\n",
       "      <td>5240.30</td>\n",
       "      <td>0.581395</td>\n",
       "      <td>0.073955</td>\n",
       "    </tr>\n",
       "    <tr>\n",
       "      <th>106</th>\n",
       "      <td>Mozambique</td>\n",
       "      <td>7.64</td>\n",
       "      <td>54.5</td>\n",
       "      <td>419.0</td>\n",
       "      <td>4782.78</td>\n",
       "      <td>0.681818</td>\n",
       "      <td>0.055050</td>\n",
       "    </tr>\n",
       "    <tr>\n",
       "      <th>31</th>\n",
       "      <td>Central African Republic</td>\n",
       "      <td>2.01</td>\n",
       "      <td>47.5</td>\n",
       "      <td>446.0</td>\n",
       "      <td>3534.24</td>\n",
       "      <td>0.445283</td>\n",
       "      <td>0.034966</td>\n",
       "    </tr>\n",
       "    <tr>\n",
       "      <th>94</th>\n",
       "      <td>Malawi</td>\n",
       "      <td>12.10</td>\n",
       "      <td>53.1</td>\n",
       "      <td>459.0</td>\n",
       "      <td>6787.70</td>\n",
       "      <td>0.653295</td>\n",
       "      <td>0.058674</td>\n",
       "    </tr>\n",
       "    <tr>\n",
       "      <th>50</th>\n",
       "      <td>Eritrea</td>\n",
       "      <td>11.60</td>\n",
       "      <td>61.7</td>\n",
       "      <td>482.0</td>\n",
       "      <td>3777.20</td>\n",
       "      <td>0.205579</td>\n",
       "      <td>0.083514</td>\n",
       "    </tr>\n",
       "    <tr>\n",
       "      <th>150</th>\n",
       "      <td>Togo</td>\n",
       "      <td>1.18</td>\n",
       "      <td>58.7</td>\n",
       "      <td>488.0</td>\n",
       "      <td>9256.50</td>\n",
       "      <td>0.701571</td>\n",
       "      <td>0.053931</td>\n",
       "    </tr>\n",
       "    <tr>\n",
       "      <th>64</th>\n",
       "      <td>Guinea-Bissau</td>\n",
       "      <td>2.97</td>\n",
       "      <td>55.6</td>\n",
       "      <td>547.0</td>\n",
       "      <td>11815.00</td>\n",
       "      <td>0.423295</td>\n",
       "      <td>0.044298</td>\n",
       "    </tr>\n",
       "    <tr>\n",
       "      <th>0</th>\n",
       "      <td>Afghanistan</td>\n",
       "      <td>9.44</td>\n",
       "      <td>56.2</td>\n",
       "      <td>553.0</td>\n",
       "      <td>12203.80</td>\n",
       "      <td>0.222717</td>\n",
       "      <td>0.064523</td>\n",
       "    </tr>\n",
       "    <tr>\n",
       "      <th>56</th>\n",
       "      <td>Gambia</td>\n",
       "      <td>4.30</td>\n",
       "      <td>65.5</td>\n",
       "      <td>562.0</td>\n",
       "      <td>9445.40</td>\n",
       "      <td>0.557377</td>\n",
       "      <td>0.071108</td>\n",
       "    </tr>\n",
       "    <tr>\n",
       "      <th>126</th>\n",
       "      <td>Rwanda</td>\n",
       "      <td>2.61</td>\n",
       "      <td>64.6</td>\n",
       "      <td>563.0</td>\n",
       "      <td>14175.00</td>\n",
       "      <td>0.400000</td>\n",
       "      <td>0.070912</td>\n",
       "    </tr>\n",
       "  </tbody>\n",
       "</table>\n",
       "</div>"
      ],
      "text/plain": [
       "                      country  inflation  life_expec   gdpp  \\\n",
       "26                    Burundi      12.30        57.7  231.0   \n",
       "88                    Liberia       5.47        60.8  327.0   \n",
       "37           Congo, Dem. Rep.      20.80        57.5  334.0   \n",
       "112                     Niger       2.55        58.8  348.0   \n",
       "132              Sierra Leone      17.20        55.0  399.0   \n",
       "93                 Madagascar       8.79        60.8  413.0   \n",
       "106                Mozambique       7.64        54.5  419.0   \n",
       "31   Central African Republic       2.01        47.5  446.0   \n",
       "94                     Malawi      12.10        53.1  459.0   \n",
       "50                    Eritrea      11.60        61.7  482.0   \n",
       "150                      Togo       1.18        58.7  488.0   \n",
       "64              Guinea-Bissau       2.97        55.6  547.0   \n",
       "0                 Afghanistan       9.44        56.2  553.0   \n",
       "56                     Gambia       4.30        65.5  562.0   \n",
       "126                    Rwanda       2.61        64.6  563.0   \n",
       "\n",
       "     income_and_health  exports/imports  fertility_by_mortality  \n",
       "26             8862.40         0.227551                0.066880  \n",
       "88             8260.00         0.206263                0.056215  \n",
       "37             4817.19         0.828629                0.056379  \n",
       "112            4200.24         0.452138                0.060894  \n",
       "132           15982.00         0.486957                0.032500  \n",
       "93             5240.30         0.581395                0.073955  \n",
       "106            4782.78         0.681818                0.055050  \n",
       "31             3534.24         0.445283                0.034966  \n",
       "94             6787.70         0.653295                0.058674  \n",
       "50             3777.20         0.205579                0.083514  \n",
       "150            9256.50         0.701571                0.053931  \n",
       "64            11815.00         0.423295                0.044298  \n",
       "0             12203.80         0.222717                0.064523  \n",
       "56             9445.40         0.557377                0.071108  \n",
       "126           14175.00         0.400000                0.070912  "
      ]
     },
     "execution_count": 190,
     "metadata": {},
     "output_type": "execute_result"
    }
   ],
   "source": [
    "df_label.sort_values(\"gdpp\", ascending=True)[:15]"
   ]
  },
  {
   "cell_type": "code",
   "execution_count": 191,
   "metadata": {
    "ExecuteTime": {
     "end_time": "2021-11-28T19:18:38.646469Z",
     "start_time": "2021-11-28T19:18:38.618299Z"
    }
   },
   "outputs": [
    {
     "name": "stdout",
     "output_type": "stream",
     "text": [
      "GDP per capita statistics\n"
     ]
    },
    {
     "data": {
      "text/plain": [
       "count       117.000000\n",
       "mean      17910.136752\n",
       "std       19934.005577\n",
       "min         758.000000\n",
       "25%        4340.000000\n",
       "50%        9070.000000\n",
       "75%       26900.000000\n",
       "max      105000.000000\n",
       "Name: gdpp, dtype: float64"
      ]
     },
     "execution_count": 191,
     "metadata": {},
     "output_type": "execute_result"
    }
   ],
   "source": [
    "print(\"GDP per capita statistics\")\n",
    "(df_new.gdpp.describe())"
   ]
  },
  {
   "cell_type": "markdown",
   "metadata": {},
   "source": [
    "- The above statistic is derived from the **other dataframe** and highlights the **enormous disparity** between countries **in the cluster and other countries on average.**\n",
    "- The mean for this dataset is **$16738$** and approximately 42 countries have a GDPP below the 10% mark of the meanother countries"
   ]
  },
  {
   "cell_type": "code",
   "execution_count": 194,
   "metadata": {
    "ExecuteTime": {
     "end_time": "2021-11-28T19:19:23.618022Z",
     "start_time": "2021-11-28T19:19:23.083937Z"
    }
   },
   "outputs": [
    {
     "data": {
      "image/png": "[encoded data removed]",
      "text/plain": [
       "<Figure size 432x288 with 1 Axes>"
      ]
     },
     "metadata": {
      "needs_background": "light"
     },
     "output_type": "display_data"
    }
   ],
   "source": [
    "dat = dict()\n",
    "\n",
    "level = 0.1 * df_new.gdpp.mean()\n",
    "for k in df_label.gdpp:\n",
    "    if(k < level):\n",
    "        dat['Less than 10%'] = dat.get('Less than 10%', 0)+1\n",
    "    else:\n",
    "        dat['Greater than 10%'] = dat.get('Greater than 10%', 0)+1\n",
    "plt.bar([0, 0.5], [dat['Less than 10%'], dat['Greater than 10%']],\n",
    "        width=0.2, alpha=0.5, color=['r','g'])\n",
    "plt.xticks([0, 0.5], ['Less than 10%', 'Greater than 10%'])\n",
    "plt.ylabel(\"Number of countries\", fontsize=13)\n",
    "plt.title(\"The distribution of countries on the\\n basis of GDP per capita\",\n",
    "          fontweight='bold')\n",
    "plt.savefig(r'Final Cluster Histograms/histo_GDPp.png', dpi=200)"
   ]
  },
  {
   "cell_type": "markdown",
   "metadata": {},
   "source": [
    "# Comparison of Fertility in females and Child Mortality Rate"
   ]
  },
  {
   "cell_type": "code",
   "execution_count": 199,
   "metadata": {
    "ExecuteTime": {
     "end_time": "2021-11-28T19:21:33.642438Z",
     "start_time": "2021-11-28T19:21:33.573241Z"
    }
   },
   "outputs": [
    {
     "data": {
      "text/html": [
       "<div>\n",
       "<style scoped>\n",
       "    .dataframe tbody tr th:only-of-type {\n",
       "        vertical-align: middle;\n",
       "    }\n",
       "\n",
       "    .dataframe tbody tr th {\n",
       "        vertical-align: top;\n",
       "    }\n",
       "\n",
       "    .dataframe thead th {\n",
       "        text-align: right;\n",
       "    }\n",
       "</style>\n",
       "<table border=\"1\" class=\"dataframe\">\n",
       "  <thead>\n",
       "    <tr style=\"text-align: right;\">\n",
       "      <th></th>\n",
       "      <th>country</th>\n",
       "      <th>inflation</th>\n",
       "      <th>life_expec</th>\n",
       "      <th>gdpp</th>\n",
       "      <th>income_and_health</th>\n",
       "      <th>exports/imports</th>\n",
       "      <th>fertility_by_mortality</th>\n",
       "    </tr>\n",
       "  </thead>\n",
       "  <tbody>\n",
       "    <tr>\n",
       "      <th>136</th>\n",
       "      <td>Solomon Islands</td>\n",
       "      <td>6.81</td>\n",
       "      <td>61.7</td>\n",
       "      <td>1290.0</td>\n",
       "      <td>15219.0</td>\n",
       "      <td>0.607143</td>\n",
       "      <td>0.150890</td>\n",
       "    </tr>\n",
       "    <tr>\n",
       "      <th>162</th>\n",
       "      <td>Vanuatu</td>\n",
       "      <td>2.62</td>\n",
       "      <td>63.0</td>\n",
       "      <td>2970.0</td>\n",
       "      <td>15487.5</td>\n",
       "      <td>0.884250</td>\n",
       "      <td>0.119863</td>\n",
       "    </tr>\n",
       "    <tr>\n",
       "      <th>52</th>\n",
       "      <td>Fiji</td>\n",
       "      <td>4.23</td>\n",
       "      <td>65.3</td>\n",
       "      <td>3650.0</td>\n",
       "      <td>35721.0</td>\n",
       "      <td>0.904538</td>\n",
       "      <td>0.110788</td>\n",
       "    </tr>\n",
       "    <tr>\n",
       "      <th>83</th>\n",
       "      <td>Kyrgyz Republic</td>\n",
       "      <td>10.00</td>\n",
       "      <td>68.5</td>\n",
       "      <td>880.0</td>\n",
       "      <td>17242.2</td>\n",
       "      <td>0.631579</td>\n",
       "      <td>0.104730</td>\n",
       "    </tr>\n",
       "    <tr>\n",
       "      <th>149</th>\n",
       "      <td>Timor-Leste</td>\n",
       "      <td>26.50</td>\n",
       "      <td>71.1</td>\n",
       "      <td>3600.0</td>\n",
       "      <td>16872.0</td>\n",
       "      <td>0.079137</td>\n",
       "      <td>0.099521</td>\n",
       "    </tr>\n",
       "    <tr>\n",
       "      <th>101</th>\n",
       "      <td>Micronesia, Fed. Sts.</td>\n",
       "      <td>3.80</td>\n",
       "      <td>65.4</td>\n",
       "      <td>2860.0</td>\n",
       "      <td>47428.0</td>\n",
       "      <td>0.290123</td>\n",
       "      <td>0.086500</td>\n",
       "    </tr>\n",
       "    <tr>\n",
       "      <th>50</th>\n",
       "      <td>Eritrea</td>\n",
       "      <td>11.60</td>\n",
       "      <td>61.7</td>\n",
       "      <td>482.0</td>\n",
       "      <td>3777.2</td>\n",
       "      <td>0.205579</td>\n",
       "      <td>0.083514</td>\n",
       "    </tr>\n",
       "    <tr>\n",
       "      <th>155</th>\n",
       "      <td>Uganda</td>\n",
       "      <td>10.60</td>\n",
       "      <td>56.8</td>\n",
       "      <td>595.0</td>\n",
       "      <td>13875.4</td>\n",
       "      <td>0.597902</td>\n",
       "      <td>0.075926</td>\n",
       "    </tr>\n",
       "    <tr>\n",
       "      <th>129</th>\n",
       "      <td>Senegal</td>\n",
       "      <td>1.85</td>\n",
       "      <td>64.0</td>\n",
       "      <td>1000.0</td>\n",
       "      <td>12338.8</td>\n",
       "      <td>0.617866</td>\n",
       "      <td>0.075749</td>\n",
       "    </tr>\n",
       "    <tr>\n",
       "      <th>147</th>\n",
       "      <td>Tanzania</td>\n",
       "      <td>9.25</td>\n",
       "      <td>59.3</td>\n",
       "      <td>702.0</td>\n",
       "      <td>12560.9</td>\n",
       "      <td>0.642612</td>\n",
       "      <td>0.075522</td>\n",
       "    </tr>\n",
       "    <tr>\n",
       "      <th>93</th>\n",
       "      <td>Madagascar</td>\n",
       "      <td>8.79</td>\n",
       "      <td>60.8</td>\n",
       "      <td>413.0</td>\n",
       "      <td>5240.3</td>\n",
       "      <td>0.581395</td>\n",
       "      <td>0.073955</td>\n",
       "    </tr>\n",
       "    <tr>\n",
       "      <th>102</th>\n",
       "      <td>Moldova</td>\n",
       "      <td>11.10</td>\n",
       "      <td>69.7</td>\n",
       "      <td>1630.0</td>\n",
       "      <td>45747.0</td>\n",
       "      <td>0.499363</td>\n",
       "      <td>0.073837</td>\n",
       "    </tr>\n",
       "  </tbody>\n",
       "</table>\n",
       "</div>"
      ],
      "text/plain": [
       "                   country  inflation  life_expec    gdpp  income_and_health  \\\n",
       "136        Solomon Islands       6.81        61.7  1290.0            15219.0   \n",
       "162                Vanuatu       2.62        63.0  2970.0            15487.5   \n",
       "52                    Fiji       4.23        65.3  3650.0            35721.0   \n",
       "83         Kyrgyz Republic      10.00        68.5   880.0            17242.2   \n",
       "149            Timor-Leste      26.50        71.1  3600.0            16872.0   \n",
       "101  Micronesia, Fed. Sts.       3.80        65.4  2860.0            47428.0   \n",
       "50                 Eritrea      11.60        61.7   482.0             3777.2   \n",
       "155                 Uganda      10.60        56.8   595.0            13875.4   \n",
       "129                Senegal       1.85        64.0  1000.0            12338.8   \n",
       "147               Tanzania       9.25        59.3   702.0            12560.9   \n",
       "93              Madagascar       8.79        60.8   413.0             5240.3   \n",
       "102                Moldova      11.10        69.7  1630.0            45747.0   \n",
       "\n",
       "     exports/imports  fertility_by_mortality  \n",
       "136         0.607143                0.150890  \n",
       "162         0.884250                0.119863  \n",
       "52          0.904538                0.110788  \n",
       "83          0.631579                0.104730  \n",
       "149         0.079137                0.099521  \n",
       "101         0.290123                0.086500  \n",
       "50          0.205579                0.083514  \n",
       "155         0.597902                0.075926  \n",
       "129         0.617866                0.075749  \n",
       "147         0.642612                0.075522  \n",
       "93          0.581395                0.073955  \n",
       "102         0.499363                0.073837  "
      ]
     },
     "execution_count": 199,
     "metadata": {},
     "output_type": "execute_result"
    }
   ],
   "source": [
    "df_label.sort_values('fertility_by_mortality', ascending=False)[:12]"
   ]
  },
  {
   "cell_type": "code",
   "execution_count": 376,
   "metadata": {},
   "outputs": [
    {
     "name": "stdout",
     "output_type": "stream",
     "text": [
      "Fertility Rate Statistics\n",
      "\n"
     ]
    },
    {
     "data": {
      "text/plain": [
       "count    126.000000\n",
       "mean     52.997421 \n",
       "std      81.086765 \n",
       "min      3.220000  \n",
       "25%      9.252000  \n",
       "50%      25.472000 \n",
       "75%      70.292250 \n",
       "max      759.200000\n",
       "Name: fertility_and_mortality, dtype: float64"
      ]
     },
     "execution_count": 376,
     "metadata": {},
     "output_type": "execute_result"
    }
   ],
   "source": [
    "print(\"Fertility Rate Statistics\\n\")\n",
    "(df_new.fertility_and_mortality.describe())"
   ]
  },
  {
   "cell_type": "markdown",
   "metadata": {},
   "source": [
    "- Again, the statistic derived from the **other dataframe** clearly highlights the differences in **Fertility in females and Child Mortality Rate** amongst the **clustered countries** and the **other countries**.\n",
    "- From the data frame it is clear that the countries of this cluster is **10 times higher than the other countries**.\n",
    "- It further strengthens the conclusion that these are the countries in **need of external help**"
   ]
  },
  {
   "cell_type": "code",
   "execution_count": 200,
   "metadata": {
    "ExecuteTime": {
     "end_time": "2021-11-28T19:22:02.096686Z",
     "start_time": "2021-11-28T19:22:01.645561Z"
    }
   },
   "outputs": [
    {
     "data": {
      "image/png": "[encoded data removed]",
      "text/plain": [
       "<Figure size 432x288 with 1 Axes>"
      ]
     },
     "metadata": {
      "needs_background": "light"
     },
     "output_type": "display_data"
    }
   ],
   "source": [
    "dat = dict()\n",
    "\n",
    "level = 0.1* df_new.fertility_by_mortality.mean()\n",
    "\n",
    "for k in df_label.fertility_by_mortality:\n",
    "    if(k < level):\n",
    "        dat['Less than 10%'] = dat.get('Less than 10%', 0)+1\n",
    "    else:\n",
    "        dat['Greater than 10%'] = dat.get('Greater than 10%', 0)+1\n",
    "plt.bar([0, 0.5], [dat['Less than 10%'], dat['Greater than 10%']],\n",
    "        width=0.2, alpha=0.5, color=['r','c'])\n",
    "plt.xticks([0, 0.5], ['Less than 10%', 'Greater than 10%'])\n",
    "plt.ylabel(\"Number of countries\", fontsize=13)\n",
    "plt.title(\"The distribution of countries on the\\n basis of Fertility in women and Child Mortality\", fontweight='bold')\n",
    "plt.savefig(r'Final Cluster Histograms/histo_fert_and_mortality.png', dpi=200)"
   ]
  },
  {
   "cell_type": "markdown",
   "metadata": {},
   "source": [
    "## Shortlisting countries from dataset.\n",
    "- Countries are shortlisted according to the above three classifiers and then the top **10** countries are extracted from each metric.\n",
    "- Then, the union of these **counrty lists** provide the most **in need countries from the dataset**"
   ]
  },
  {
   "cell_type": "code",
   "execution_count": 202,
   "metadata": {
    "ExecuteTime": {
     "end_time": "2021-11-28T19:22:13.458542Z",
     "start_time": "2021-11-28T19:22:13.441977Z"
    }
   },
   "outputs": [],
   "source": [
    "inc_h = list(df_label.sort_values(\"income_and_health\").country[:10])\n",
    "gdp_p = list(df_label.sort_values(\"gdpp\").country[:10])\n",
    "fer_mort = list(df_label.sort_values(\n",
    "    \"fertility_by_mortality\", ascending=False).country[:10])"
   ]
  },
  {
   "cell_type": "code",
   "execution_count": 203,
   "metadata": {
    "ExecuteTime": {
     "end_time": "2021-11-28T19:22:15.420949Z",
     "start_time": "2021-11-28T19:22:15.402572Z"
    }
   },
   "outputs": [
    {
     "name": "stdout",
     "output_type": "stream",
     "text": [
      "Based on income and health: ['Central African Republic', 'Eritrea', 'Niger', 'Mozambique', 'Congo, Dem. Rep.', 'Madagascar', 'Guinea', 'Comoros', 'Malawi', 'Benin'] \n",
      "\n",
      "Based on GDP per capita : ['Burundi', 'Liberia', 'Congo, Dem. Rep.', 'Niger', 'Sierra Leone', 'Madagascar', 'Mozambique', 'Central African Republic', 'Malawi', 'Eritrea'] \n",
      "\n",
      "Based on fertility and mortality : ['Solomon Islands', 'Vanuatu', 'Fiji', 'Kyrgyz Republic', 'Timor-Leste', 'Micronesia, Fed. Sts.', 'Eritrea', 'Uganda', 'Senegal', 'Tanzania']\n"
     ]
    }
   ],
   "source": [
    "print(\"Based on income and health:\", inc_h, \"\\n\")\n",
    "print(\"Based on GDP per capita :\", gdp_p, \"\\n\")\n",
    "print(\"Based on fertility and mortality :\", fer_mort)"
   ]
  },
  {
   "cell_type": "markdown",
   "metadata": {},
   "source": [
    "## Top 2 Countries of each category\n",
    " - INCOME AND HEALTH - **'Central African Republic', 'Eritrea'**\n",
    " - GDP per capita - **'Burundi', 'Liberia'**\n",
    " - Fertility and Mortality - **'Solomon Islands', 'Vanuatu'**"
   ]
  },
  {
   "cell_type": "code",
   "execution_count": 204,
   "metadata": {
    "ExecuteTime": {
     "end_time": "2021-11-28T19:22:44.456457Z",
     "start_time": "2021-11-28T19:22:44.450052Z"
    }
   },
   "outputs": [],
   "source": [
    "final_list = list(set().union(inc_h, gdp_p, fer_mort))"
   ]
  },
  {
   "cell_type": "code",
   "execution_count": 205,
   "metadata": {
    "ExecuteTime": {
     "end_time": "2021-11-28T19:22:44.981201Z",
     "start_time": "2021-11-28T19:22:44.964188Z"
    }
   },
   "outputs": [
    {
     "data": {
      "text/plain": [
       "['Guinea',\n",
       " 'Liberia',\n",
       " 'Kyrgyz Republic',\n",
       " 'Central African Republic',\n",
       " 'Comoros',\n",
       " 'Malawi',\n",
       " 'Solomon Islands',\n",
       " 'Timor-Leste',\n",
       " 'Micronesia, Fed. Sts.',\n",
       " 'Eritrea',\n",
       " 'Mozambique',\n",
       " 'Benin',\n",
       " 'Vanuatu',\n",
       " 'Uganda',\n",
       " 'Tanzania',\n",
       " 'Congo, Dem. Rep.',\n",
       " 'Sierra Leone',\n",
       " 'Fiji',\n",
       " 'Madagascar',\n",
       " 'Senegal',\n",
       " 'Niger',\n",
       " 'Burundi']"
      ]
     },
     "execution_count": 205,
     "metadata": {},
     "output_type": "execute_result"
    }
   ],
   "source": [
    "final_list"
   ]
  },
  {
   "cell_type": "code",
   "execution_count": null,
   "metadata": {},
   "outputs": [],
   "source": []
  }
 ],
 "metadata": {
  "kernelspec": {
   "display_name": "Python 3",
   "language": "python",
   "name": "python3"
  },
  "language_info": {
   "codemirror_mode": {
    "name": "ipython",
    "version": 3
   },
   "file_extension": ".py",
   "mimetype": "text/x-python",
   "name": "python",
   "nbconvert_exporter": "python",
   "pygments_lexer": "ipython3",
   "version": "3.8.8"
  }
 },
 "nbformat": 4,
 "nbformat_minor": 2
}
